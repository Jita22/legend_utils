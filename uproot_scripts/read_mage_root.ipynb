{
 "cells": [
  {
   "cell_type": "markdown",
   "id": "d00bee12-4fa1-43e5-9147-e1593557c051",
   "metadata": {},
   "source": [
    "## Reading in the MaGe rootfile using uproot, and writing out certain parameters as a pandas dataframe"
   ]
  },
  {
   "cell_type": "code",
   "execution_count": 1,
   "id": "2953e87a-c2dd-4f23-81d5-03117148b88d",
   "metadata": {
    "tags": []
   },
   "outputs": [],
   "source": [
    "# Read the packages\n",
    "import uproot\n",
    "import numpy as np\n",
    "import pandas as pd"
   ]
  },
  {
   "cell_type": "markdown",
   "id": "825c91c9-7d14-4a30-8252-cf4595aad3b7",
   "metadata": {
    "tags": []
   },
   "source": [
    "#### Read in the file <br> <font color=red> Change as per requirement</font>"
   ]
  },
  {
   "cell_type": "code",
   "execution_count": 2,
   "id": "82affe09-faa1-422f-a32d-39ee02371eca",
   "metadata": {
    "tags": []
   },
   "outputs": [],
   "source": [
    "# Reading the MaGe rootfile\n",
    "projectdirs='/global/cfs/projectdirs/m2676/sims/prodenv/l200a/v1.0.0/generated/tier/raw/l200a-hpge-bulk-2vbb/'\n",
    "inpath = projectdirs + 'l200a-hpge-bulk-2vbb_0000-tier_raw.root'\n",
    "file = uproot.open(inpath)"
   ]
  },
  {
   "cell_type": "markdown",
   "id": "1913d05f-2d59-450d-9faf-8b6795689631",
   "metadata": {},
   "source": [
    "#### Check the name of the Tree and the values"
   ]
  },
  {
   "cell_type": "code",
   "execution_count": 3,
   "id": "cedd39dd-ebd5-4408-a412-84f9a7106157",
   "metadata": {
    "tags": []
   },
   "outputs": [
    {
     "data": {
      "text/plain": [
       "['NumberOfEvents;1', 'fTree;1']"
      ]
     },
     "execution_count": 3,
     "metadata": {},
     "output_type": "execute_result"
    }
   ],
   "source": [
    "file.keys()"
   ]
  },
  {
   "cell_type": "code",
   "execution_count": 4,
   "id": "a663ff55-8082-495a-803f-adf9304183c2",
   "metadata": {
    "tags": []
   },
   "outputs": [
    {
     "data": {
      "text/plain": [
       "[<TBranchElement 'fMCRun' (2 subbranches) at 0x7fe404a33e10>,\n",
       " <TBranchElement 'MGTDataObject' at 0x7fe404a405d0>,\n",
       " <TBranchElement 'MGMCRun' (30 subbranches) at 0x7fe404a41b10>,\n",
       " <TBranchElement 'fRunID' at 0x7fe404a42690>,\n",
       " <TBranchElement 'fNEvents' at 0x7fe404a43cd0>,\n",
       " <TBranchElement 'fDescription' at 0x7fe404a4d350>,\n",
       " <TBranchElement 'fSensitiveVolumeIDs' (2 subbranches) at 0x7fe404a4e990>,\n",
       " <TBranchElement 'fSensitiveVolumeIDs.first' at 0x7fe404a4f490>,\n",
       " <TBranchElement 'fSensitiveVolumeIDs.second' at 0x7fe404a54e50>,\n",
       " <TBranchElement 'fWriteRandGenState' at 0x7fe404a56a10>,\n",
       " <TBranchElement 'fWriteAllSteps' at 0x7fe404a5c0d0>,\n",
       " <TBranchElement 'fWriteAllStepsInEventsThatDepositEnergy' at 0x7fe404a5d650>,\n",
       " <TBranchElement 'fWriteEventsThatDepositEnergyInGe' at 0x7fe404a5df10>,\n",
       " <TBranchElement 'fKillAlphas' at 0x7fe404a5ff90>,\n",
       " <TBranchElement 'fKillBetas' at 0x7fe404a5c090>,\n",
       " <TBranchElement 'fKillGammas' at 0x7fe404a6eb10>,\n",
       " <TBranchElement 'fKillNeutrons' at 0x7fe404a74050>,\n",
       " <TBranchElement 'fStopNuclei' at 0x7fe404a75650>,\n",
       " <TBranchElement 'fUseTimeWindow' at 0x7fe404a76b10>,\n",
       " <TBranchElement 'fTimeWindow' at 0x7fe404a77fd0>,\n",
       " <TBranchElement 'fUseImportanceSampling' at 0x7fe404a79610>,\n",
       " <TBranchElement 'fBiasedParticleID' at 0x7fe404a7ab90>,\n",
       " <TBranchElement 'fUseImportanceProcessWindow' at 0x7fe404a84110>,\n",
       " <TBranchElement 'fUseParallelWorld' at 0x7fe404a85550>,\n",
       " <TBranchElement 'fAmax' at 0x7fe404a85f10>,\n",
       " <TBranchElement 'fAmin' at 0x7fe404a87ed0>,\n",
       " <TBranchElement 'fZmax' at 0x7fe404a99590>,\n",
       " <TBranchElement 'fZmin' at 0x7fe404a9ab50>,\n",
       " <TBranchElement 'fMaGeRevision' at 0x7fe404a9c0d0>,\n",
       " <TBranchElement 'fMaGeTag' at 0x7fe404a9d650>,\n",
       " <TBranchElement 'fMGDORevision' at 0x7fe404a9ead0>,\n",
       " <TBranchElement 'fMGDOTag' at 0x7fe404a9ff50>,\n",
       " <TBranchElement 'fGeantVersion' at 0x7fe4048ad4d0>,\n",
       " <TBranchElement 'fCLHEPVersion' at 0x7fe4048ae9d0>,\n",
       " <TBranchElement 'fROOTVersion' at 0x7fe4048aff50>,\n",
       " <TBranchElement 'eventHeader' (6 subbranches) at 0x7fe404a31b10>,\n",
       " <TBranchElement 'MGTDataObject' at 0x7fe4048b30d0>,\n",
       " <TBranchElement 'fEventID' at 0x7fe4048bc650>,\n",
       " <TBranchElement 'fRandGenState' at 0x7fe4048bda90>,\n",
       " <TBranchElement 'fTotalEnergy' at 0x7fe4048bf010>,\n",
       " <TBranchElement 'fIsHeartbeatEvent' at 0x7fe4048cc4d0>,\n",
       " <TBranchElement 'fEnergyOfDetectorID' (2 subbranches) at 0x7fe4048cd8d0>,\n",
       " <TBranchElement 'fEnergyOfDetectorID.first' at 0x7fe4048ce2d0>,\n",
       " <TBranchElement 'fEnergyOfDetectorID.second' at 0x7fe4048cfa90>,\n",
       " <TBranchElement 'eventSteps' (4 subbranches) at 0x7fe4048da050>,\n",
       " <TBranchElement 'MGTDataObject' at 0x7fe4048daad0>,\n",
       " <TBranchElement 'fEventID' at 0x7fe4048dbf50>,\n",
       " <TBranchElement 'fNSteps' at 0x7fe4048e5410>,\n",
       " <TBranchElement 'fSteps' (26 subbranches) at 0x7fe4048e68d0>,\n",
       " <TBranchElement 'fSteps.MGTDataObject' at 0x7fe4048e7390>,\n",
       " <TBranchElement 'fSteps.fIsPreStep' at 0x7fe4048f0bd0>,\n",
       " <TBranchElement 'fSteps.fParticleID' at 0x7fe4048f2110>,\n",
       " <TBranchElement 'fSteps.fTrackID' at 0x7fe4048f3550>,\n",
       " <TBranchElement 'fSteps.fParentTrackID' at 0x7fe4048f8a10>,\n",
       " <TBranchElement 'fSteps.fProcessName' at 0x7fe4048f9f50>,\n",
       " <TBranchElement 'fSteps.fPhysVolName' at 0x7fe4048fb310>,\n",
       " <TBranchElement 'fSteps.fCopyNo' at 0x7fe404900710>,\n",
       " <TBranchElement 'fSteps.fSensVolID' at 0x7fe404901c10>,\n",
       " <TBranchElement 'fSteps.fT' at 0x7fe4048f9f10>,\n",
       " <TBranchElement 'fSteps.fTimeOffset' at 0x7fe4049083d0>,\n",
       " <TBranchElement 'fSteps.fEdep' at 0x7fe4049097d0>,\n",
       " <TBranchElement 'fSteps.fKineticEnergy' at 0x7fe40490ac50>,\n",
       " <TBranchElement 'fSteps.fStepLength' at 0x7fe40490bfd0>,\n",
       " <TBranchElement 'fSteps.fTotalTrackLength' at 0x7fe4049153d0>,\n",
       " <TBranchElement 'fSteps.fX' at 0x7fe404916850>,\n",
       " <TBranchElement 'fSteps.fY' at 0x7fe404917c50>,\n",
       " <TBranchElement 'fSteps.fZ' at 0x7fe404921190>,\n",
       " <TBranchElement 'fSteps.fLocalX' at 0x7fe404922610>,\n",
       " <TBranchElement 'fSteps.fLocalY' at 0x7fe404923a90>,\n",
       " <TBranchElement 'fSteps.fLocalZ' at 0x7fe404930f90>,\n",
       " <TBranchElement 'fSteps.fPx' at 0x7fe4049323d0>,\n",
       " <TBranchElement 'fSteps.fPy' at 0x7fe404933950>,\n",
       " <TBranchElement 'fSteps.fPz' at 0x7fe404938e10>,\n",
       " <TBranchElement 'fSteps.fStepNumber' at 0x7fe40493a290>,\n",
       " <TBranchElement 'fSteps.fTrackWeight' at 0x7fe40493b690>,\n",
       " <TBranchElement 'eventPrimaries' (4 subbranches) at 0x7fe404941ad0>,\n",
       " <TBranchElement 'MGTDataObject' at 0x7fe404942490>,\n",
       " <TBranchElement 'fEventID' at 0x7fe404943910>,\n",
       " <TBranchElement 'fNSteps' at 0x7fe404948dd0>,\n",
       " <TBranchElement 'fSteps' (26 subbranches) at 0x7fe40494a290>,\n",
       " <TBranchElement 'fSteps.MGTDataObject' at 0x7fe40494ad10>,\n",
       " <TBranchElement 'fSteps.fIsPreStep' at 0x7fe404950550>,\n",
       " <TBranchElement 'fSteps.fParticleID' at 0x7fe404951990>,\n",
       " <TBranchElement 'fSteps.fTrackID' at 0x7fe404952d50>,\n",
       " <TBranchElement 'fSteps.fParentTrackID' at 0x7fe4049601d0>,\n",
       " <TBranchElement 'fSteps.fProcessName' at 0x7fe404961590>,\n",
       " <TBranchElement 'fSteps.fPhysVolName' at 0x7fe4049628d0>,\n",
       " <TBranchElement 'fSteps.fCopyNo' at 0x7fe404963cd0>,\n",
       " <TBranchElement 'fSteps.fSensVolID' at 0x7fe40496d190>,\n",
       " <TBranchElement 'fSteps.fT' at 0x7fe404961550>,\n",
       " <TBranchElement 'fSteps.fTimeOffset' at 0x7fe40496f990>,\n",
       " <TBranchElement 'fSteps.fEdep' at 0x7fe404974d10>,\n",
       " <TBranchElement 'fSteps.fKineticEnergy' at 0x7fe4049761d0>,\n",
       " <TBranchElement 'fSteps.fStepLength' at 0x7fe4049775d0>,\n",
       " <TBranchElement 'fSteps.fTotalTrackLength' at 0x7fe40497ca90>,\n",
       " <TBranchElement 'fSteps.fX' at 0x7fe40497ddd0>,\n",
       " <TBranchElement 'fSteps.fY' at 0x7fe40497f290>,\n",
       " <TBranchElement 'fSteps.fZ' at 0x7fe404984750>,\n",
       " <TBranchElement 'fSteps.fLocalX' at 0x7fe404985b90>,\n",
       " <TBranchElement 'fSteps.fLocalY' at 0x7fe404986fd0>,\n",
       " <TBranchElement 'fSteps.fLocalZ' at 0x7fe4049883d0>,\n",
       " <TBranchElement 'fSteps.fPx' at 0x7fe4049897d0>,\n",
       " <TBranchElement 'fSteps.fPy' at 0x7fe40498ac50>,\n",
       " <TBranchElement 'fSteps.fPz' at 0x7fe40499c0d0>,\n",
       " <TBranchElement 'fSteps.fStepNumber' at 0x7fe40499d550>,\n",
       " <TBranchElement 'fSteps.fTrackWeight' at 0x7fe40499df10>]"
      ]
     },
     "execution_count": 4,
     "metadata": {},
     "output_type": "execute_result"
    }
   ],
   "source": [
    "file[\"fTree\"].values()"
   ]
  },
  {
   "cell_type": "markdown",
   "id": "e65d154f-4365-402a-8984-2ffdbc98156b",
   "metadata": {
    "tags": []
   },
   "source": [
    "#### Pull the required branches into numpy arrays and then convert them into a dataframe"
   ]
  },
  {
   "cell_type": "code",
   "execution_count": 5,
   "id": "cf51f7a1-a0c8-4d62-a95a-a8cc9b3b3bc9",
   "metadata": {},
   "outputs": [],
   "source": [
    "fX = file[\"fTree\"][\"eventSteps\"][\"fSteps.fX\"].array(library=\"numpy\")\n",
    "fY = file[\"fTree\"][\"eventSteps\"][\"fSteps.fY\"].array(library=\"numpy\")\n",
    "fZ = file[\"fTree\"][\"eventSteps\"][\"fSteps.fY\"].array(library=\"numpy\")"
   ]
  },
  {
   "cell_type": "code",
   "execution_count": 6,
   "id": "adeca107-40fb-4d55-a97b-628800361c3f",
   "metadata": {
    "tags": []
   },
   "outputs": [],
   "source": [
    "# Create a dictionary with arrays as values and column names as keys\n",
    "data = {'fX': fX, 'fY': fY, 'fZ': fZ}\n",
    "\n",
    "# Create a DataFrame\n",
    "df = pd.DataFrame(data)"
   ]
  },
  {
   "cell_type": "code",
   "execution_count": 7,
   "id": "8578e175-2c90-4c36-bbd6-fcda0bb34a10",
   "metadata": {
    "tags": []
   },
   "outputs": [
    {
     "data": {
      "text/html": [
       "<div>\n",
       "<style scoped>\n",
       "    .dataframe tbody tr th:only-of-type {\n",
       "        vertical-align: middle;\n",
       "    }\n",
       "\n",
       "    .dataframe tbody tr th {\n",
       "        vertical-align: top;\n",
       "    }\n",
       "\n",
       "    .dataframe thead th {\n",
       "        text-align: right;\n",
       "    }\n",
       "</style>\n",
       "<table border=\"1\" class=\"dataframe\">\n",
       "  <thead>\n",
       "    <tr style=\"text-align: right;\">\n",
       "      <th></th>\n",
       "      <th>fX</th>\n",
       "      <th>fY</th>\n",
       "      <th>fZ</th>\n",
       "    </tr>\n",
       "  </thead>\n",
       "  <tbody>\n",
       "    <tr>\n",
       "      <th>0</th>\n",
       "      <td>[-131.06205587831906, -131.06205615934212, -13...</td>\n",
       "      <td>[188.44693478104833, 188.44693452594427, 188.4...</td>\n",
       "      <td>[188.44693478104833, 188.44693452594427, 188.4...</td>\n",
       "    </tr>\n",
       "    <tr>\n",
       "      <th>1</th>\n",
       "      <td>[166.41642663852485, 166.41642718294463, 166.4...</td>\n",
       "      <td>[-83.10088613094842, -83.10088389478041, -83.1...</td>\n",
       "      <td>[-83.10088613094842, -83.10088389478041, -83.1...</td>\n",
       "    </tr>\n",
       "    <tr>\n",
       "      <th>2</th>\n",
       "      <td>[-244.5976516030155, -244.59765178706004, -244...</td>\n",
       "      <td>[16.6075087836754, 16.60751056982198, 16.60750...</td>\n",
       "      <td>[16.6075087836754, 16.60751056982198, 16.60750...</td>\n",
       "    </tr>\n",
       "    <tr>\n",
       "      <th>3</th>\n",
       "      <td>[-120.1573758424486, -120.15737524072725, -120...</td>\n",
       "      <td>[214.22999141285035, 214.22999238258888, 214.2...</td>\n",
       "      <td>[214.22999141285035, 214.22999238258888, 214.2...</td>\n",
       "    </tr>\n",
       "    <tr>\n",
       "      <th>4</th>\n",
       "      <td>[87.26706000004893, 87.26705850523886, 87.2670...</td>\n",
       "      <td>[220.08461421673786, 220.08461388265263, 220.0...</td>\n",
       "      <td>[220.08461421673786, 220.08461388265263, 220.0...</td>\n",
       "    </tr>\n",
       "    <tr>\n",
       "      <th>...</th>\n",
       "      <td>...</td>\n",
       "      <td>...</td>\n",
       "      <td>...</td>\n",
       "    </tr>\n",
       "    <tr>\n",
       "      <th>999996</th>\n",
       "      <td>[195.98555328465872, 195.9855518558661, 195.98...</td>\n",
       "      <td>[107.18017253913334, 107.1801731703764, 107.18...</td>\n",
       "      <td>[107.18017253913334, 107.1801731703764, 107.18...</td>\n",
       "    </tr>\n",
       "    <tr>\n",
       "      <th>999997</th>\n",
       "      <td>[-175.7768616741554, -175.77686167528498, -175...</td>\n",
       "      <td>[-90.8264588773247, -90.82645852512266, -90.82...</td>\n",
       "      <td>[-90.8264588773247, -90.82645852512266, -90.82...</td>\n",
       "    </tr>\n",
       "    <tr>\n",
       "      <th>999998</th>\n",
       "      <td>[-186.57370736951205, -186.57370681145701, -18...</td>\n",
       "      <td>[-108.9024931023775, -108.90249374047895, -108...</td>\n",
       "      <td>[-108.9024931023775, -108.90249374047895, -108...</td>\n",
       "    </tr>\n",
       "    <tr>\n",
       "      <th>999999</th>\n",
       "      <td>[-130.75412737333872, -130.75412871499142, -13...</td>\n",
       "      <td>[-159.6422955262637, -159.64229714337037, -159...</td>\n",
       "      <td>[-159.6422955262637, -159.64229714337037, -159...</td>\n",
       "    </tr>\n",
       "    <tr>\n",
       "      <th>1000000</th>\n",
       "      <td>[]</td>\n",
       "      <td>[]</td>\n",
       "      <td>[]</td>\n",
       "    </tr>\n",
       "  </tbody>\n",
       "</table>\n",
       "<p>1000001 rows × 3 columns</p>\n",
       "</div>"
      ],
      "text/plain": [
       "                                                        fX  \\\n",
       "0        [-131.06205587831906, -131.06205615934212, -13...   \n",
       "1        [166.41642663852485, 166.41642718294463, 166.4...   \n",
       "2        [-244.5976516030155, -244.59765178706004, -244...   \n",
       "3        [-120.1573758424486, -120.15737524072725, -120...   \n",
       "4        [87.26706000004893, 87.26705850523886, 87.2670...   \n",
       "...                                                    ...   \n",
       "999996   [195.98555328465872, 195.9855518558661, 195.98...   \n",
       "999997   [-175.7768616741554, -175.77686167528498, -175...   \n",
       "999998   [-186.57370736951205, -186.57370681145701, -18...   \n",
       "999999   [-130.75412737333872, -130.75412871499142, -13...   \n",
       "1000000                                                 []   \n",
       "\n",
       "                                                        fY  \\\n",
       "0        [188.44693478104833, 188.44693452594427, 188.4...   \n",
       "1        [-83.10088613094842, -83.10088389478041, -83.1...   \n",
       "2        [16.6075087836754, 16.60751056982198, 16.60750...   \n",
       "3        [214.22999141285035, 214.22999238258888, 214.2...   \n",
       "4        [220.08461421673786, 220.08461388265263, 220.0...   \n",
       "...                                                    ...   \n",
       "999996   [107.18017253913334, 107.1801731703764, 107.18...   \n",
       "999997   [-90.8264588773247, -90.82645852512266, -90.82...   \n",
       "999998   [-108.9024931023775, -108.90249374047895, -108...   \n",
       "999999   [-159.6422955262637, -159.64229714337037, -159...   \n",
       "1000000                                                 []   \n",
       "\n",
       "                                                        fZ  \n",
       "0        [188.44693478104833, 188.44693452594427, 188.4...  \n",
       "1        [-83.10088613094842, -83.10088389478041, -83.1...  \n",
       "2        [16.6075087836754, 16.60751056982198, 16.60750...  \n",
       "3        [214.22999141285035, 214.22999238258888, 214.2...  \n",
       "4        [220.08461421673786, 220.08461388265263, 220.0...  \n",
       "...                                                    ...  \n",
       "999996   [107.18017253913334, 107.1801731703764, 107.18...  \n",
       "999997   [-90.8264588773247, -90.82645852512266, -90.82...  \n",
       "999998   [-108.9024931023775, -108.90249374047895, -108...  \n",
       "999999   [-159.6422955262637, -159.64229714337037, -159...  \n",
       "1000000                                                 []  \n",
       "\n",
       "[1000001 rows x 3 columns]"
      ]
     },
     "execution_count": 7,
     "metadata": {},
     "output_type": "execute_result"
    }
   ],
   "source": [
    "df"
   ]
  },
  {
   "cell_type": "markdown",
   "id": "7985be14-3d83-413f-9976-14ab6f0538df",
   "metadata": {},
   "source": [
    "#### **Note**: <br>Since each event contains various steps, each entry in the dataframe is an array. Keep in mind that the steps in each event need not be fully contained within a single detector. <br> <font color=red> Depending on the information you need, you might have to do some post-processing before using this information.</font>"
   ]
  },
  {
   "cell_type": "code",
   "execution_count": null,
   "id": "2e63d380-92a6-4614-a9c2-e0eaa0e18604",
   "metadata": {},
   "outputs": [],
   "source": []
  }
 ],
 "metadata": {
  "kernelspec": {
   "display_name": "legend-base",
   "language": "python",
   "name": "legend-base"
  },
  "language_info": {
   "codemirror_mode": {
    "name": "ipython",
    "version": 3
   },
   "file_extension": ".py",
   "mimetype": "text/x-python",
   "name": "python",
   "nbconvert_exporter": "python",
   "pygments_lexer": "ipython3",
   "version": "3.11.5"
  }
 },
 "nbformat": 4,
 "nbformat_minor": 5
}
