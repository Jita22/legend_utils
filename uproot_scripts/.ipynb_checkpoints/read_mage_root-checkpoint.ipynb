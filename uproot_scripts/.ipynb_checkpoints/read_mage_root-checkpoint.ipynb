{
 "cells": [
  {
   "cell_type": "code",
   "execution_count": 1,
   "id": "e5eb1d6c-a65a-4465-bb61-b07e6d357d9d",
   "metadata": {},
   "outputs": [],
   "source": [
    "# Reading the rootfile in a limited way just to ensure that the Sensitive Volume ID makes sense.\n",
    "import uproot\n",
    "import numpy\n",
    "import pandas as pd"
   ]
  },
  {
   "cell_type": "code",
   "execution_count": null,
   "id": "82affe09-faa1-422f-a32d-39ee02371eca",
   "metadata": {
    "tags": []
   },
   "outputs": [
    {
     "name": "stdout",
     "output_type": "stream",
     "text": [
      "l200a-hpge-support-copper-Ra224-to-Pb208_0000-tier_raw.root\n",
      "Primaries:\n"
     ]
    },
    {
     "name": "stderr",
     "output_type": "stream",
     "text": [
      "/tmp/ipykernel_849155/3256297615.py:11: DeprecationWarning: The truth value of an empty array is ambiguous. Returning False, but in future this will result in an error. Use `array.size > 0` to check that an array is not empty.\n",
      "  if (entry !=1000882240):\n"
     ]
    },
    {
     "name": "stdout",
     "output_type": "stream",
     "text": [
      "Secondaries:\n",
      "1000822080\n",
      "1000822080\n",
      "l200a-hpge-support-copper-Ra224-to-Pb208_0001-tier_raw.root\n",
      "Primaries:\n",
      "Secondaries:\n",
      "1000862200\n",
      "1000862200\n",
      "1000842160\n",
      "1000842160\n",
      "1000822120\n",
      "1000822120\n",
      "l200a-hpge-support-copper-Ra224-to-Pb208_0002-tier_raw.root\n",
      "Primaries:\n",
      "Secondaries:\n",
      "l200a-hpge-support-copper-Ra224-to-Pb208_0003-tier_raw.root\n",
      "Primaries:\n",
      "Secondaries:\n"
     ]
    }
   ],
   "source": [
    "# Reading the input file\n",
    "projectdirs='/global/cfs/cdirs/legend/sims/prodenv/l200a/v1.0.0-golden/generated/tier/raw/l200a-hpge-support-copper-Ra224-to-Pb208/'\n",
    "for i in range(249):\n",
    "    inpath = f'{projectdirs}l200a-hpge-support-copper-Ra224-to-Pb208_{i:04d}-tier_raw.root'\n",
    "    print(f'l200a-hpge-support-copper-Ra224-to-Pb208_{i:04d}-tier_raw.root')\n",
    "    file = uproot.open(inpath)\n",
    "    # #Pull from the eventPrimaries sub-branches\n",
    "    primaries=file[\"fTree\"][\"eventPrimaries\"][\"fSteps.fParticleID\"].array(library=\"numpy\")\n",
    "    print('Primaries:')\n",
    "    for entry in primaries:\n",
    "        if (entry !=1000882240):\n",
    "            print(entry)\n",
    "    #Pull from the eventSteps sub-branches\n",
    "    secondaries=file[\"fTree\"][\"eventSteps\"][\"fSteps.fParticleID\"].array(library=\"numpy\")\n",
    "    print('Secondaries:')\n",
    "    for pcle in secondaries:\n",
    "        for x in pcle:\n",
    "            if (x == 1000882240 or x == 1000862200 or x == 1000842160 or x == 1000822120 or x == 1000812080 or x == 1000822080):\n",
    "                print(x)"
   ]
  },
  {
   "cell_type": "code",
   "execution_count": null,
   "id": "cf51f7a1-a0c8-4d62-a95a-a8cc9b3b3bc9",
   "metadata": {},
   "outputs": [],
   "source": []
  }
 ],
 "metadata": {
  "kernelspec": {
   "display_name": "legend-base",
   "language": "python",
   "name": "legend-base"
  },
  "language_info": {
   "codemirror_mode": {
    "name": "ipython",
    "version": 3
   },
   "file_extension": ".py",
   "mimetype": "text/x-python",
   "name": "python",
   "nbconvert_exporter": "python",
   "pygments_lexer": "ipython3",
   "version": "3.11.3"
  }
 },
 "nbformat": 4,
 "nbformat_minor": 5
}
