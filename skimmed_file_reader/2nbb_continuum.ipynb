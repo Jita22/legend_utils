{
 "cells": [
  {
   "cell_type": "markdown",
   "id": "ba880013-508e-48c3-8f9e-724526d17251",
   "metadata": {},
   "source": [
    "# Notebook to examine the 2nBB event population in the physics data"
   ]
  },
  {
   "cell_type": "markdown",
   "id": "25f5b5ca-4c35-40f8-b795-342eab1f8b82",
   "metadata": {},
   "source": [
    "Aparajita Mazumdar, Jul 3, 2023"
   ]
  },
  {
   "cell_type": "markdown",
   "id": "e8da3bb3-085b-468e-860d-ffb2d214d914",
   "metadata": {},
   "source": [
    "The skimmed files exist as .lh5 files in the path `/global/cfs/cdirs/m2676/data/lngs/l200/public/prodenv/prod-blind/ref-v2.1.2/generated/tier/skm/phy/*.lh5`."
   ]
  },
  {
   "cell_type": "markdown",
   "id": "70699c34-5d41-4bd4-902b-b39029bbefd3",
   "metadata": {},
   "source": [
    "### Miscellaneous functions"
   ]
  },
  {
   "cell_type": "code",
   "execution_count": 1,
   "id": "bebf0837-8eb3-45a7-b133-37364db8a4dc",
   "metadata": {
    "tags": []
   },
   "outputs": [],
   "source": [
    "def count_integrator(arr, bins, emin, emax):\n",
    "    hist, bin_edges = np.histogram(arr, bins=bins, range=(0,bins))\n",
    "    return sum(hist[emin:emax])"
   ]
  },
  {
   "cell_type": "markdown",
   "id": "2c93e874-c4e5-4c05-aa2c-365772f59254",
   "metadata": {},
   "source": [
    "### Reading the data"
   ]
  },
  {
   "cell_type": "markdown",
   "id": "b48bd9d8-3962-4e2b-9b25-1cddacfcee33",
   "metadata": {
    "tags": []
   },
   "source": [
    "We will use skimmed files so that it is easy to apply the quality cuts."
   ]
  },
  {
   "cell_type": "code",
   "execution_count": 2,
   "id": "c9dacc73-ac92-42fd-b697-68904584382c",
   "metadata": {
    "tags": []
   },
   "outputs": [],
   "source": [
    "import pandas as pd # pandas\n",
    "import numpy as np # numpy\n",
    "import os # for listing files in the directory\n",
    "import glob # Unix style pathname pattern expansion\n",
    "from datetime   import datetime, timezone #for datetime functions\n",
    "import matplotlib as mpl\n",
    "import matplotlib.pyplot as plt # for plotting\n",
    "import matplotlib.dates as mdates # for dates\n",
    "import seaborn as sns # for the 2D histogram\n",
    "from legendmeta import LegendMetadata\n",
    "from scipy.optimize import curve_fit\n",
    "import lgdo.lh5 as lh5\n",
    "from lgdo.lh5 import LH5Store, show, store, load_dfs, ls # Modified\n",
    "\n",
    "import matplotlib.pyplot as plt\n",
    "import legendstyles\n",
    "\n",
    "plt.style.use(legendstyles.LEGEND)\n",
    "\n",
    "lmeta = LegendMetadata()"
   ]
  },
  {
   "cell_type": "code",
   "execution_count": 3,
   "id": "5ff616a1-d789-481a-977d-57e14f40f429",
   "metadata": {
    "tags": []
   },
   "outputs": [],
   "source": [
    "# Concatenation of files\n",
    "def read_and_concat_data(group):\n",
    "    dfs = [lh5.read_as(f\"skm\", file, library=\"pd\") for file in group]\n",
    "    return pd.concat(dfs, axis = 0)"
   ]
  },
  {
   "cell_type": "code",
   "execution_count": 4,
   "id": "bb951ada-8a7e-4bec-9282-b23c996a6c28",
   "metadata": {
    "tags": []
   },
   "outputs": [
    {
     "name": "stdout",
     "output_type": "stream",
     "text": [
      "The files processed are:\n",
      "/global/cfs/cdirs/m2676/data/lngs/l200/public/prodenv/prod-blind/ref-v2.1.2/generated/tier/skm/phy/l200-p03-r000-phy-tier_skm.lh5\n",
      "/global/cfs/cdirs/m2676/data/lngs/l200/public/prodenv/prod-blind/ref-v2.1.2/generated/tier/skm/phy/l200-p03-r001-phy-tier_skm.lh5\n",
      "/global/cfs/cdirs/m2676/data/lngs/l200/public/prodenv/prod-blind/ref-v2.1.2/generated/tier/skm/phy/l200-p03-r002-phy-tier_skm.lh5\n",
      "/global/cfs/cdirs/m2676/data/lngs/l200/public/prodenv/prod-blind/ref-v2.1.2/generated/tier/skm/phy/l200-p03-r003-phy-tier_skm.lh5\n",
      "/global/cfs/cdirs/m2676/data/lngs/l200/public/prodenv/prod-blind/ref-v2.1.2/generated/tier/skm/phy/l200-p03-r004-phy-tier_skm.lh5\n",
      "/global/cfs/cdirs/m2676/data/lngs/l200/public/prodenv/prod-blind/ref-v2.1.2/generated/tier/skm/phy/l200-p03-r005-phy-tier_skm.lh5\n",
      "/global/cfs/cdirs/m2676/data/lngs/l200/public/prodenv/prod-blind/ref-v2.1.2/generated/tier/skm/phy/l200-p04-r000-phy-tier_skm.lh5\n",
      "/global/cfs/cdirs/m2676/data/lngs/l200/public/prodenv/prod-blind/ref-v2.1.2/generated/tier/skm/phy/l200-p04-r001-phy-tier_skm.lh5\n",
      "/global/cfs/cdirs/m2676/data/lngs/l200/public/prodenv/prod-blind/ref-v2.1.2/generated/tier/skm/phy/l200-p04-r002-phy-tier_skm.lh5\n",
      "/global/cfs/cdirs/m2676/data/lngs/l200/public/prodenv/prod-blind/ref-v2.1.2/generated/tier/skm/phy/l200-p04-r003-phy-tier_skm.lh5\n",
      "/global/cfs/cdirs/m2676/data/lngs/l200/public/prodenv/prod-blind/ref-v2.1.2/generated/tier/skm/phy/l200-p06-r000-phy-tier_skm.lh5\n",
      "/global/cfs/cdirs/m2676/data/lngs/l200/public/prodenv/prod-blind/ref-v2.1.2/generated/tier/skm/phy/l200-p06-r001-phy-tier_skm.lh5\n",
      "/global/cfs/cdirs/m2676/data/lngs/l200/public/prodenv/prod-blind/ref-v2.1.2/generated/tier/skm/phy/l200-p06-r002-phy-tier_skm.lh5\n",
      "/global/cfs/cdirs/m2676/data/lngs/l200/public/prodenv/prod-blind/ref-v2.1.2/generated/tier/skm/phy/l200-p06-r003-phy-tier_skm.lh5\n",
      "/global/cfs/cdirs/m2676/data/lngs/l200/public/prodenv/prod-blind/ref-v2.1.2/generated/tier/skm/phy/l200-p06-r004-phy-tier_skm.lh5\n",
      "/global/cfs/cdirs/m2676/data/lngs/l200/public/prodenv/prod-blind/ref-v2.1.2/generated/tier/skm/phy/l200-p06-r005-phy-tier_skm.lh5\n",
      "/global/cfs/cdirs/m2676/data/lngs/l200/public/prodenv/prod-blind/ref-v2.1.2/generated/tier/skm/phy/l200-p07-r002-phy-tier_skm.lh5\n",
      "/global/cfs/cdirs/m2676/data/lngs/l200/public/prodenv/prod-blind/ref-v2.1.2/generated/tier/skm/phy/l200-p07-r003-phy-tier_skm.lh5\n",
      "/global/cfs/cdirs/m2676/data/lngs/l200/public/prodenv/prod-blind/ref-v2.1.2/generated/tier/skm/phy/l200-p07-r004-phy-tier_skm.lh5\n",
      "/global/cfs/cdirs/m2676/data/lngs/l200/public/prodenv/prod-blind/ref-v2.1.2/generated/tier/skm/phy/l200-p07-r005-phy-tier_skm.lh5\n",
      "/global/cfs/cdirs/m2676/data/lngs/l200/public/prodenv/prod-blind/ref-v2.1.2/generated/tier/skm/phy/l200-p07-r006-phy-tier_skm.lh5\n",
      "/global/cfs/cdirs/m2676/data/lngs/l200/public/prodenv/prod-blind/ref-v2.1.2/generated/tier/skm/phy/l200-p07-r007-phy-tier_skm.lh5\n",
      "/global/cfs/cdirs/m2676/data/lngs/l200/public/prodenv/prod-blind/ref-v2.1.2/generated/tier/skm/phy/l200-p08-r000-phy-tier_skm.lh5\n",
      "/global/cfs/cdirs/m2676/data/lngs/l200/public/prodenv/prod-blind/ref-v2.1.2/generated/tier/skm/phy/l200-p08-r001-phy-tier_skm.lh5\n",
      "/global/cfs/cdirs/m2676/data/lngs/l200/public/prodenv/prod-blind/ref-v2.1.2/generated/tier/skm/phy/l200-p08-r002-phy-tier_skm.lh5\n",
      "/global/cfs/cdirs/m2676/data/lngs/l200/public/prodenv/prod-blind/ref-v2.1.2/generated/tier/skm/phy/l200-p08-r003-phy-tier_skm.lh5\n",
      "/global/cfs/cdirs/m2676/data/lngs/l200/public/prodenv/prod-blind/ref-v2.1.2/generated/tier/skm/phy/l200-p08-r004-phy-tier_skm.lh5\n",
      "/global/cfs/cdirs/m2676/data/lngs/l200/public/prodenv/prod-blind/ref-v2.1.2/generated/tier/skm/phy/l200-p08-r006-phy-tier_skm.lh5\n",
      "/global/cfs/cdirs/m2676/data/lngs/l200/public/prodenv/prod-blind/ref-v2.1.2/generated/tier/skm/phy/l200-p08-r007-phy-tier_skm.lh5\n",
      "/global/cfs/cdirs/m2676/data/lngs/l200/public/prodenv/prod-blind/ref-v2.1.2/generated/tier/skm/phy/l200-p08-r008-phy-tier_skm.lh5\n",
      "/global/cfs/cdirs/m2676/data/lngs/l200/public/prodenv/prod-blind/ref-v2.1.2/generated/tier/skm/phy/l200-p08-r009-phy-tier_skm.lh5\n",
      "/global/cfs/cdirs/m2676/data/lngs/l200/public/prodenv/prod-blind/ref-v2.1.2/generated/tier/skm/phy/l200-p08-r010-phy-tier_skm.lh5\n",
      "/global/cfs/cdirs/m2676/data/lngs/l200/public/prodenv/prod-blind/ref-v2.1.2/generated/tier/skm/phy/l200-p08-r011-phy-tier_skm.lh5\n",
      "/global/cfs/cdirs/m2676/data/lngs/l200/public/prodenv/prod-blind/ref-v2.1.2/generated/tier/skm/phy/l200-p08-r012-phy-tier_skm.lh5\n",
      "/global/cfs/cdirs/m2676/data/lngs/l200/public/prodenv/prod-blind/ref-v2.1.2/generated/tier/skm/phy/l200-p08-r013-phy-tier_skm.lh5\n",
      "/global/cfs/cdirs/m2676/data/lngs/l200/public/prodenv/prod-blind/ref-v2.1.2/generated/tier/skm/phy/l200-p08-r014-phy-tier_skm.lh5\n",
      "/global/cfs/cdirs/m2676/data/lngs/l200/public/prodenv/prod-blind/ref-v2.1.2/generated/tier/skm/phy/l200-p09-r000-phy-tier_skm.lh5\n",
      "/global/cfs/cdirs/m2676/data/lngs/l200/public/prodenv/prod-blind/ref-v2.1.2/generated/tier/skm/phy/l200-p09-r001-phy-tier_skm.lh5\n",
      "/global/cfs/cdirs/m2676/data/lngs/l200/public/prodenv/prod-blind/ref-v2.1.2/generated/tier/skm/phy/l200-p09-r002-phy-tier_skm.lh5\n",
      "/global/cfs/cdirs/m2676/data/lngs/l200/public/prodenv/prod-blind/ref-v2.1.2/generated/tier/skm/phy/l200-p09-r003-phy-tier_skm.lh5\n",
      "/global/cfs/cdirs/m2676/data/lngs/l200/public/prodenv/prod-blind/ref-v2.1.2/generated/tier/skm/phy/l200-p09-r004-phy-tier_skm.lh5\n",
      "/global/cfs/cdirs/m2676/data/lngs/l200/public/prodenv/prod-blind/ref-v2.1.2/generated/tier/skm/phy/l200-p09-r005-phy-tier_skm.lh5\n",
      "__________________________________________________________________________\n",
      "The keys in the data are:\n",
      "Index(['trigger_timestamp', 'coincident_muon', 'coincident_muon_offline',\n",
      "       'coincident_spms', 'coincident_spms_experimental', 'geds_hit_idx',\n",
      "       'geds_rawid', 'geds_t0', 'geds_energy', 'geds_daqenergy',\n",
      "       'geds_psd_drift_time', 'geds_psd_low_aoe_is_good',\n",
      "       'geds_psd_low_aoe_value', 'geds_psd_low_aoe_is_single_site',\n",
      "       'geds_psd_high_aoe_is_good', 'geds_psd_high_aoe_value',\n",
      "       'geds_psd_high_aoe_is_bulk', 'geds_psd_lq_is_good', 'geds_psd_lq_value',\n",
      "       'geds_psd_lq_is_bulk', 'geds_psd_batch5_dt_is_good',\n",
      "       'geds_psd_batch5_dt_value', 'geds_psd_batch5_dt_is_high_dt',\n",
      "       'geds_psd_is_good', 'geds_psd_is_bb_like', 'spms_energy_sum',\n",
      "       'spms_multiplicity', 'spms_geds_coincidence_classifier'],\n",
      "      dtype='object')\n",
      "__________________________________________________________________________\n"
     ]
    },
    {
     "data": {
      "text/html": [
       "<div>\n",
       "<style scoped>\n",
       "    .dataframe tbody tr th:only-of-type {\n",
       "        vertical-align: middle;\n",
       "    }\n",
       "\n",
       "    .dataframe tbody tr th {\n",
       "        vertical-align: top;\n",
       "    }\n",
       "\n",
       "    .dataframe thead th {\n",
       "        text-align: right;\n",
       "    }\n",
       "</style>\n",
       "<table border=\"1\" class=\"dataframe\">\n",
       "  <thead>\n",
       "    <tr style=\"text-align: right;\">\n",
       "      <th></th>\n",
       "      <th>trigger_timestamp</th>\n",
       "      <th>coincident_muon</th>\n",
       "      <th>coincident_muon_offline</th>\n",
       "      <th>coincident_spms</th>\n",
       "      <th>coincident_spms_experimental</th>\n",
       "      <th>geds_hit_idx</th>\n",
       "      <th>geds_rawid</th>\n",
       "      <th>geds_t0</th>\n",
       "      <th>geds_energy</th>\n",
       "      <th>geds_daqenergy</th>\n",
       "      <th>...</th>\n",
       "      <th>geds_psd_lq_value</th>\n",
       "      <th>geds_psd_lq_is_bulk</th>\n",
       "      <th>geds_psd_batch5_dt_is_good</th>\n",
       "      <th>geds_psd_batch5_dt_value</th>\n",
       "      <th>geds_psd_batch5_dt_is_high_dt</th>\n",
       "      <th>geds_psd_is_good</th>\n",
       "      <th>geds_psd_is_bb_like</th>\n",
       "      <th>spms_energy_sum</th>\n",
       "      <th>spms_multiplicity</th>\n",
       "      <th>spms_geds_coincidence_classifier</th>\n",
       "    </tr>\n",
       "  </thead>\n",
       "  <tbody>\n",
       "    <tr>\n",
       "      <th>0</th>\n",
       "      <td>1.678596e+09</td>\n",
       "      <td>False</td>\n",
       "      <td>False</td>\n",
       "      <td>False</td>\n",
       "      <td>False</td>\n",
       "      <td>0</td>\n",
       "      <td>1107203</td>\n",
       "      <td>48448.0</td>\n",
       "      <td>185.007828</td>\n",
       "      <td>189.814194</td>\n",
       "      <td>...</td>\n",
       "      <td>NaN</td>\n",
       "      <td>False</td>\n",
       "      <td>False</td>\n",
       "      <td>NaN</td>\n",
       "      <td>False</td>\n",
       "      <td>False</td>\n",
       "      <td>False</td>\n",
       "      <td>0.000000</td>\n",
       "      <td>0</td>\n",
       "      <td>inf</td>\n",
       "    </tr>\n",
       "    <tr>\n",
       "      <th>1</th>\n",
       "      <td>1.678596e+09</td>\n",
       "      <td>False</td>\n",
       "      <td>False</td>\n",
       "      <td>False</td>\n",
       "      <td>False</td>\n",
       "      <td>1</td>\n",
       "      <td>1121605</td>\n",
       "      <td>47632.0</td>\n",
       "      <td>768.944519</td>\n",
       "      <td>768.746033</td>\n",
       "      <td>...</td>\n",
       "      <td>-0.271581</td>\n",
       "      <td>True</td>\n",
       "      <td>True</td>\n",
       "      <td>687.011719</td>\n",
       "      <td>True</td>\n",
       "      <td>False</td>\n",
       "      <td>False</td>\n",
       "      <td>0.000000</td>\n",
       "      <td>0</td>\n",
       "      <td>inf</td>\n",
       "    </tr>\n",
       "    <tr>\n",
       "      <th>2</th>\n",
       "      <td>1.678596e+09</td>\n",
       "      <td>False</td>\n",
       "      <td>False</td>\n",
       "      <td>True</td>\n",
       "      <td>True</td>\n",
       "      <td>2</td>\n",
       "      <td>1118405</td>\n",
       "      <td>47648.0</td>\n",
       "      <td>111.276474</td>\n",
       "      <td>112.167603</td>\n",
       "      <td>...</td>\n",
       "      <td>-1.790132</td>\n",
       "      <td>True</td>\n",
       "      <td>False</td>\n",
       "      <td>NaN</td>\n",
       "      <td>False</td>\n",
       "      <td>True</td>\n",
       "      <td>True</td>\n",
       "      <td>17.346317</td>\n",
       "      <td>7</td>\n",
       "      <td>1.750084</td>\n",
       "    </tr>\n",
       "    <tr>\n",
       "      <th>3</th>\n",
       "      <td>1.678596e+09</td>\n",
       "      <td>False</td>\n",
       "      <td>False</td>\n",
       "      <td>True</td>\n",
       "      <td>True</td>\n",
       "      <td>3</td>\n",
       "      <td>1089601</td>\n",
       "      <td>47824.0</td>\n",
       "      <td>240.933670</td>\n",
       "      <td>240.628860</td>\n",
       "      <td>...</td>\n",
       "      <td>NaN</td>\n",
       "      <td>False</td>\n",
       "      <td>False</td>\n",
       "      <td>NaN</td>\n",
       "      <td>False</td>\n",
       "      <td>False</td>\n",
       "      <td>False</td>\n",
       "      <td>10.241254</td>\n",
       "      <td>3</td>\n",
       "      <td>2.259017</td>\n",
       "    </tr>\n",
       "    <tr>\n",
       "      <th>4</th>\n",
       "      <td>1.678596e+09</td>\n",
       "      <td>False</td>\n",
       "      <td>False</td>\n",
       "      <td>True</td>\n",
       "      <td>True</td>\n",
       "      <td>5</td>\n",
       "      <td>1107205</td>\n",
       "      <td>47248.0</td>\n",
       "      <td>52.737621</td>\n",
       "      <td>53.601509</td>\n",
       "      <td>...</td>\n",
       "      <td>NaN</td>\n",
       "      <td>False</td>\n",
       "      <td>False</td>\n",
       "      <td>NaN</td>\n",
       "      <td>False</td>\n",
       "      <td>False</td>\n",
       "      <td>False</td>\n",
       "      <td>134.207458</td>\n",
       "      <td>17</td>\n",
       "      <td>-11.147507</td>\n",
       "    </tr>\n",
       "    <tr>\n",
       "      <th>...</th>\n",
       "      <td>...</td>\n",
       "      <td>...</td>\n",
       "      <td>...</td>\n",
       "      <td>...</td>\n",
       "      <td>...</td>\n",
       "      <td>...</td>\n",
       "      <td>...</td>\n",
       "      <td>...</td>\n",
       "      <td>...</td>\n",
       "      <td>...</td>\n",
       "      <td>...</td>\n",
       "      <td>...</td>\n",
       "      <td>...</td>\n",
       "      <td>...</td>\n",
       "      <td>...</td>\n",
       "      <td>...</td>\n",
       "      <td>...</td>\n",
       "      <td>...</td>\n",
       "      <td>...</td>\n",
       "      <td>...</td>\n",
       "      <td>...</td>\n",
       "    </tr>\n",
       "    <tr>\n",
       "      <th>70559</th>\n",
       "      <td>1.708271e+09</td>\n",
       "      <td>False</td>\n",
       "      <td>False</td>\n",
       "      <td>True</td>\n",
       "      <td>True</td>\n",
       "      <td>901</td>\n",
       "      <td>1088001</td>\n",
       "      <td>47632.0</td>\n",
       "      <td>112.111839</td>\n",
       "      <td>111.488403</td>\n",
       "      <td>...</td>\n",
       "      <td>-6.541803</td>\n",
       "      <td>True</td>\n",
       "      <td>False</td>\n",
       "      <td>NaN</td>\n",
       "      <td>False</td>\n",
       "      <td>True</td>\n",
       "      <td>True</td>\n",
       "      <td>46.476776</td>\n",
       "      <td>12</td>\n",
       "      <td>-0.853706</td>\n",
       "    </tr>\n",
       "    <tr>\n",
       "      <th>70560</th>\n",
       "      <td>1.708271e+09</td>\n",
       "      <td>False</td>\n",
       "      <td>False</td>\n",
       "      <td>False</td>\n",
       "      <td>False</td>\n",
       "      <td>903</td>\n",
       "      <td>1084804</td>\n",
       "      <td>47696.0</td>\n",
       "      <td>114.918465</td>\n",
       "      <td>114.787437</td>\n",
       "      <td>...</td>\n",
       "      <td>19.722784</td>\n",
       "      <td>False</td>\n",
       "      <td>False</td>\n",
       "      <td>NaN</td>\n",
       "      <td>False</td>\n",
       "      <td>True</td>\n",
       "      <td>False</td>\n",
       "      <td>0.000000</td>\n",
       "      <td>0</td>\n",
       "      <td>inf</td>\n",
       "    </tr>\n",
       "    <tr>\n",
       "      <th>70561</th>\n",
       "      <td>1.708271e+09</td>\n",
       "      <td>False</td>\n",
       "      <td>False</td>\n",
       "      <td>True</td>\n",
       "      <td>True</td>\n",
       "      <td>919</td>\n",
       "      <td>1113600</td>\n",
       "      <td>47456.0</td>\n",
       "      <td>45.840813</td>\n",
       "      <td>45.722881</td>\n",
       "      <td>...</td>\n",
       "      <td>242.014435</td>\n",
       "      <td>False</td>\n",
       "      <td>False</td>\n",
       "      <td>NaN</td>\n",
       "      <td>False</td>\n",
       "      <td>True</td>\n",
       "      <td>True</td>\n",
       "      <td>26.198444</td>\n",
       "      <td>11</td>\n",
       "      <td>1.575320</td>\n",
       "    </tr>\n",
       "    <tr>\n",
       "      <th>70562</th>\n",
       "      <td>1.708271e+09</td>\n",
       "      <td>False</td>\n",
       "      <td>False</td>\n",
       "      <td>True</td>\n",
       "      <td>False</td>\n",
       "      <td>924</td>\n",
       "      <td>1116802</td>\n",
       "      <td>47696.0</td>\n",
       "      <td>68.287941</td>\n",
       "      <td>67.033470</td>\n",
       "      <td>...</td>\n",
       "      <td>40.743153</td>\n",
       "      <td>False</td>\n",
       "      <td>False</td>\n",
       "      <td>NaN</td>\n",
       "      <td>False</td>\n",
       "      <td>True</td>\n",
       "      <td>True</td>\n",
       "      <td>3.717750</td>\n",
       "      <td>4</td>\n",
       "      <td>5.397536</td>\n",
       "    </tr>\n",
       "    <tr>\n",
       "      <th>70563</th>\n",
       "      <td>1.708271e+09</td>\n",
       "      <td>False</td>\n",
       "      <td>False</td>\n",
       "      <td>True</td>\n",
       "      <td>True</td>\n",
       "      <td>925</td>\n",
       "      <td>1089600</td>\n",
       "      <td>47792.0</td>\n",
       "      <td>189.317764</td>\n",
       "      <td>189.039474</td>\n",
       "      <td>...</td>\n",
       "      <td>-4.670765</td>\n",
       "      <td>True</td>\n",
       "      <td>False</td>\n",
       "      <td>NaN</td>\n",
       "      <td>False</td>\n",
       "      <td>True</td>\n",
       "      <td>True</td>\n",
       "      <td>14.945573</td>\n",
       "      <td>8</td>\n",
       "      <td>1.108628</td>\n",
       "    </tr>\n",
       "  </tbody>\n",
       "</table>\n",
       "<p>3102636 rows × 28 columns</p>\n",
       "</div>"
      ],
      "text/plain": [
       "       trigger_timestamp  coincident_muon  coincident_muon_offline  \\\n",
       "0           1.678596e+09            False                    False   \n",
       "1           1.678596e+09            False                    False   \n",
       "2           1.678596e+09            False                    False   \n",
       "3           1.678596e+09            False                    False   \n",
       "4           1.678596e+09            False                    False   \n",
       "...                  ...              ...                      ...   \n",
       "70559       1.708271e+09            False                    False   \n",
       "70560       1.708271e+09            False                    False   \n",
       "70561       1.708271e+09            False                    False   \n",
       "70562       1.708271e+09            False                    False   \n",
       "70563       1.708271e+09            False                    False   \n",
       "\n",
       "       coincident_spms  coincident_spms_experimental  geds_hit_idx  \\\n",
       "0                False                         False             0   \n",
       "1                False                         False             1   \n",
       "2                 True                          True             2   \n",
       "3                 True                          True             3   \n",
       "4                 True                          True             5   \n",
       "...                ...                           ...           ...   \n",
       "70559             True                          True           901   \n",
       "70560            False                         False           903   \n",
       "70561             True                          True           919   \n",
       "70562             True                         False           924   \n",
       "70563             True                          True           925   \n",
       "\n",
       "       geds_rawid  geds_t0  geds_energy  geds_daqenergy  ...  \\\n",
       "0         1107203  48448.0   185.007828      189.814194  ...   \n",
       "1         1121605  47632.0   768.944519      768.746033  ...   \n",
       "2         1118405  47648.0   111.276474      112.167603  ...   \n",
       "3         1089601  47824.0   240.933670      240.628860  ...   \n",
       "4         1107205  47248.0    52.737621       53.601509  ...   \n",
       "...           ...      ...          ...             ...  ...   \n",
       "70559     1088001  47632.0   112.111839      111.488403  ...   \n",
       "70560     1084804  47696.0   114.918465      114.787437  ...   \n",
       "70561     1113600  47456.0    45.840813       45.722881  ...   \n",
       "70562     1116802  47696.0    68.287941       67.033470  ...   \n",
       "70563     1089600  47792.0   189.317764      189.039474  ...   \n",
       "\n",
       "       geds_psd_lq_value  geds_psd_lq_is_bulk  geds_psd_batch5_dt_is_good  \\\n",
       "0                    NaN                False                       False   \n",
       "1              -0.271581                 True                        True   \n",
       "2              -1.790132                 True                       False   \n",
       "3                    NaN                False                       False   \n",
       "4                    NaN                False                       False   \n",
       "...                  ...                  ...                         ...   \n",
       "70559          -6.541803                 True                       False   \n",
       "70560          19.722784                False                       False   \n",
       "70561         242.014435                False                       False   \n",
       "70562          40.743153                False                       False   \n",
       "70563          -4.670765                 True                       False   \n",
       "\n",
       "       geds_psd_batch5_dt_value  geds_psd_batch5_dt_is_high_dt  \\\n",
       "0                           NaN                          False   \n",
       "1                    687.011719                           True   \n",
       "2                           NaN                          False   \n",
       "3                           NaN                          False   \n",
       "4                           NaN                          False   \n",
       "...                         ...                            ...   \n",
       "70559                       NaN                          False   \n",
       "70560                       NaN                          False   \n",
       "70561                       NaN                          False   \n",
       "70562                       NaN                          False   \n",
       "70563                       NaN                          False   \n",
       "\n",
       "       geds_psd_is_good  geds_psd_is_bb_like  spms_energy_sum  \\\n",
       "0                 False                False         0.000000   \n",
       "1                 False                False         0.000000   \n",
       "2                  True                 True        17.346317   \n",
       "3                 False                False        10.241254   \n",
       "4                 False                False       134.207458   \n",
       "...                 ...                  ...              ...   \n",
       "70559              True                 True        46.476776   \n",
       "70560              True                False         0.000000   \n",
       "70561              True                 True        26.198444   \n",
       "70562              True                 True         3.717750   \n",
       "70563              True                 True        14.945573   \n",
       "\n",
       "       spms_multiplicity  spms_geds_coincidence_classifier  \n",
       "0                      0                               inf  \n",
       "1                      0                               inf  \n",
       "2                      7                          1.750084  \n",
       "3                      3                          2.259017  \n",
       "4                     17                        -11.147507  \n",
       "...                  ...                               ...  \n",
       "70559                 12                         -0.853706  \n",
       "70560                  0                               inf  \n",
       "70561                 11                          1.575320  \n",
       "70562                  4                          5.397536  \n",
       "70563                  8                          1.108628  \n",
       "\n",
       "[3102636 rows x 28 columns]"
      ]
     },
     "execution_count": 4,
     "metadata": {},
     "output_type": "execute_result"
    }
   ],
   "source": [
    "# Define the path to the skimmed files\n",
    "path_to_skimmed_files='/global/cfs/cdirs/m2676/data/lngs/l200/public/prodenv/prod-blind/ref-v2.1.2/generated/tier/skm/phy/*.lh5'\n",
    "skimmed_files=sorted(glob.glob(path_to_skimmed_files))\n",
    "print(\"The files processed are:\")\n",
    "for file in skimmed_files:\n",
    "    print(file)\n",
    "print(\"__________________________________________________________________________\")\n",
    "data= read_and_concat_data(skimmed_files)\n",
    "print(f\"The keys in the data are:\\n{data.keys()}\")\n",
    "print(\"__________________________________________________________________________\")\n",
    "data"
   ]
  },
  {
   "cell_type": "markdown",
   "id": "a5d89ca7-cf8c-4c33-9658-7ba59a9c519f",
   "metadata": {},
   "source": [
    "### Defining the channel map for the hardware"
   ]
  },
  {
   "cell_type": "markdown",
   "id": "253f8838-5c6c-4bb0-933f-0fb3cda788a2",
   "metadata": {},
   "source": [
    "Defining the date time based on a time stamp towards the start of the stable data taking. Since the hardware mapping has not changed, it should be fine."
   ]
  },
  {
   "cell_type": "code",
   "execution_count": 5,
   "id": "04aa82d3-c78e-42a4-b73c-11c38774487e",
   "metadata": {
    "tags": []
   },
   "outputs": [],
   "source": [
    "# Channel map\n",
    "dt    = datetime(2023, 4, 22, 5, 54, 22, tzinfo=timezone.utc)\n",
    "chmap = lmeta.hardware.configuration.channelmaps.on(dt)"
   ]
  },
  {
   "cell_type": "code",
   "execution_count": 6,
   "id": "db9dbe4f-3f0f-4974-945d-37870077ccfe",
   "metadata": {
    "tags": []
   },
   "outputs": [],
   "source": [
    "# Detectors dictionary\n",
    "detlist=[]\n",
    "for det, val in chmap.items():\n",
    "    if val.system == \"geds\":\n",
    "        detlist.append(det)\n",
    "        \n",
    "channel_dict = {}\n",
    "\n",
    "for channel_name, channel_data in chmap.items():\n",
    "    try:\n",
    "        channel_dict[channel_data['daq']['rawid']] = (lmeta.channelmap(dt)[channel_name].type, channel_name, lmeta.channelmap(dt)[channel_name].production['mass_in_g'], lmeta.channelmap(dt)[channel_name].location.string, lmeta.channelmap(dt)[channel_name].location.position)\n",
    "    except:\n",
    "        #print(channel_name)\n",
    "        continue"
   ]
  },
  {
   "cell_type": "code",
   "execution_count": 7,
   "id": "db9ab0f9-636d-4cce-b7fe-bfa507e5f1f7",
   "metadata": {
    "tags": []
   },
   "outputs": [],
   "source": [
    "# channel and aux channel definition\n",
    "channel_df = pd.DataFrame.from_dict(channel_dict, orient='index', columns=['det_type', 'channel_name', 'mass', 'string', 'position'])"
   ]
  },
  {
   "cell_type": "markdown",
   "id": "784673b5-3d0b-4337-be34-eaa18f908c5a",
   "metadata": {},
   "source": [
    "### Merging the channel map and the data"
   ]
  },
  {
   "cell_type": "code",
   "execution_count": 8,
   "id": "8d787652-1d75-487d-a1a4-fb803027de7c",
   "metadata": {
    "tags": []
   },
   "outputs": [],
   "source": [
    "# data is the master dataframe\n",
    "data  = pd.merge(data, channel_df, left_on='geds_rawid', right_index=True, how='left')"
   ]
  },
  {
   "cell_type": "markdown",
   "id": "2b281509-ab86-4d9e-9305-3159de7c76f9",
   "metadata": {},
   "source": [
    "### Data selection"
   ]
  },
  {
   "cell_type": "markdown",
   "id": "91788379-83b6-4271-8cb5-3a258ad137a7",
   "metadata": {},
   "source": [
    "The skimmed files have already removed all the information that is not needed. The events that fail quality cuts are not presented here. This is the silver dataset after multiplicity cut. Also applying the muon cut."
   ]
  },
  {
   "cell_type": "code",
   "execution_count": 19,
   "id": "b0ecde9e-97d5-495a-a3b0-31f7648cebac",
   "metadata": {
    "tags": []
   },
   "outputs": [],
   "source": [
    "bins = np.arange(700,5300,10)\n",
    "data = data[data.coincident_muon == False]"
   ]
  },
  {
   "cell_type": "code",
   "execution_count": 20,
   "id": "86a5a896-c818-4cd5-8e61-048ec46d6f63",
   "metadata": {
    "tags": []
   },
   "outputs": [],
   "source": [
    "data_golden = data[data.geds_psd_is_good == True]"
   ]
  },
  {
   "cell_type": "code",
   "execution_count": 26,
   "id": "4a77f6da-7c99-4764-91a6-648b95c6f2a1",
   "metadata": {
    "tags": []
   },
   "outputs": [
    {
     "data": {
      "image/png": "[encoded data removed]",
      "text/plain": [
       "<Figure size 1200x350 with 1 Axes>"
      ]
     },
     "metadata": {},
     "output_type": "display_data"
    }
   ],
   "source": [
    "fig, ax = plt.subplots()\n",
    "legendstyles.legend_watermark(ax, logo_suffix=\"-200\")\n",
    "counts, bins, _ = plt.hist(data_golden[\"geds_energy\"], histtype=\"step\", range = (700,5300), bins = bins)\n",
    "plt.xlim(700,5300)\n",
    "plt.yscale(\"log\")"
   ]
  },
  {
   "cell_type": "markdown",
   "id": "a7c5d88a-a8bd-4b24-9910-539fec704ad4",
   "metadata": {},
   "source": [
    "Apply the psd cut."
   ]
  },
  {
   "cell_type": "code",
   "execution_count": 22,
   "id": "150541d2-6b58-423a-bb84-2ef6cfd32c98",
   "metadata": {
    "tags": []
   },
   "outputs": [],
   "source": [
    "data_psd = data_golden[data_golden.geds_psd_is_bb_like == True]"
   ]
  },
  {
   "cell_type": "code",
   "execution_count": 27,
   "id": "1f4f4fc0-caa8-450b-b808-ae183d31ba2a",
   "metadata": {
    "tags": []
   },
   "outputs": [
    {
     "data": {
      "image/png": "[encoded data removed]",
      "text/plain": [
       "<Figure size 1200x350 with 1 Axes>"
      ]
     },
     "metadata": {},
     "output_type": "display_data"
    }
   ],
   "source": [
    "fig, ax = plt.subplots()\n",
    "legendstyles.legend_watermark(ax, logo_suffix=\"-200\")\n",
    "counts, bins, _ = plt.hist(data_golden[\"geds_energy\"], histtype=\"step\", range = (700,5300), bins = bins)\n",
    "counts, bins, _ = plt.hist(data_psd[\"geds_energy\"], color = \"olive\", range = (700,5300), bins = bins)\n",
    "plt.xlim(700,5300)\n",
    "plt.yscale(\"log\")"
   ]
  },
  {
   "cell_type": "markdown",
   "id": "e2167a51-f964-4488-ae43-257b2152d791",
   "metadata": {},
   "source": [
    "Thus the need for the liquid argon instrumentation."
   ]
  },
  {
   "cell_type": "code",
   "execution_count": 24,
   "id": "e7c65f04-f01e-4f9a-86f3-1446cafac34e",
   "metadata": {
    "tags": []
   },
   "outputs": [],
   "source": [
    "data_QC = data_psd[data_psd.coincident_spms == False]"
   ]
  },
  {
   "cell_type": "code",
   "execution_count": 34,
   "id": "d93e4284-8cc3-475c-a718-e0204fbebd9e",
   "metadata": {
    "tags": []
   },
   "outputs": [
    {
     "data": {
      "image/png": "[encoded data removed]",
      "text/plain": [
       "<Figure size 1200x350 with 1 Axes>"
      ]
     },
     "metadata": {},
     "output_type": "display_data"
    }
   ],
   "source": [
    "fig, ax = plt.subplots()\n",
    "legendstyles.legend_watermark(ax, logo_suffix=\"-200\")\n",
    "counts, bins, _ = plt.hist(data_QC[\"geds_energy\"], color = \"orange\", range = (0,2100), bins = 2100)\n",
    "plt.xlim(600,2100)\n",
    "plt.yscale(\"log\")"
   ]
  },
  {
   "cell_type": "code",
   "execution_count": 37,
   "id": "96cebbf2-7f7f-4470-8c3e-6e1998c0f1e3",
   "metadata": {
    "tags": []
   },
   "outputs": [
    {
     "data": {
      "image/png": "[encoded data removed]",
      "text/plain": [
       "<Figure size 1200x350 with 1 Axes>"
      ]
     },
     "metadata": {},
     "output_type": "display_data"
    }
   ],
   "source": [
    "fig, ax = plt.subplots()\n",
    "legendstyles.legend_watermark(ax, logo_suffix=\"-200\")\n",
    "counts, bins, _ = plt.hist(data_QC[\"geds_energy\"], color = \"orange\", range = (0,2100), bins = 2100)\n",
    "plt.xlim(60,1000)\n",
    "plt.yscale(\"log\")"
   ]
  },
  {
   "cell_type": "code",
   "execution_count": null,
   "id": "677b6db7-0fd6-4d24-bb6d-2a061737f515",
   "metadata": {},
   "outputs": [],
   "source": []
  }
 ],
 "metadata": {
  "kernelspec": {
   "display_name": "legend-base",
   "language": "python",
   "name": "legend-base"
  },
  "language_info": {
   "codemirror_mode": {
    "name": "ipython",
    "version": 3
   },
   "file_extension": ".py",
   "mimetype": "text/x-python",
   "name": "python",
   "nbconvert_exporter": "python",
   "pygments_lexer": "ipython3",
   "version": "3.11.8"
  }
 },
 "nbformat": 4,
 "nbformat_minor": 5
}
