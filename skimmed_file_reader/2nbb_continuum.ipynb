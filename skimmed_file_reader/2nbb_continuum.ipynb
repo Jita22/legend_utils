{
 "cells": [
  {
   "cell_type": "markdown",
   "id": "ba880013-508e-48c3-8f9e-724526d17251",
   "metadata": {},
   "source": [
    "# Notebook to examine the 2nBB event population in the physics data"
   ]
  },
  {
   "cell_type": "markdown",
   "id": "25f5b5ca-4c35-40f8-b795-342eab1f8b82",
   "metadata": {},
   "source": [
    "Aparajita Mazumdar, Feb 2, 2023"
   ]
  },
  {
   "cell_type": "markdown",
   "id": "e8da3bb3-085b-468e-860d-ffb2d214d914",
   "metadata": {},
   "source": [
    "The skimmed files exist as .parquet files in the path `/data1/users/krause/share/high_lvl/v02_00`. I have temporarily copied these files to a local folder on NERSC for my use, while Sam W figures out the details regarding transferring data to NERSC. Note that as of Jan 10, 2024, it was mentioned that the high level data processing would have to be redone, so it is unclear as to whether this analysis will have to be redone once the final skimmed files are re-generated. (The exact nature of the issue for which the production will have to be repeated is also not clear to me. I think it was related to certain cuts). This code can serve as a starting point for the analysis."
   ]
  },
  {
   "cell_type": "markdown",
   "id": "70699c34-5d41-4bd4-902b-b39029bbefd3",
   "metadata": {},
   "source": [
    "### Miscellaneous functions"
   ]
  },
  {
   "cell_type": "code",
   "execution_count": 22,
   "id": "bebf0837-8eb3-45a7-b133-37364db8a4dc",
   "metadata": {
    "tags": []
   },
   "outputs": [],
   "source": [
    "def count_integrator(arr, bins, emin, emax):\n",
    "    hist, edges = np.histogram(arr, bins)\n",
    "    return sum(hist[emin:emax])"
   ]
  },
  {
   "cell_type": "code",
   "execution_count": 23,
   "id": "e93b7960-5e5c-4ff6-a16c-90547cd7fdfa",
   "metadata": {},
   "outputs": [],
   "source": [
    "def hatching(col):\n",
    "    # Add a vertical span with hatching\n",
    "    ax[0,col].axvspan(xmin=581, xmax=585, color='gray', alpha=0.3, hatch='/')\n",
    "    ax[0,col].axvspan(xmin=579, xmax=581, color='orange', alpha=0.3, hatch='x')\n",
    "    ax[0,col].axvspan(xmin=585, xmax=587, color='orange', alpha=0.3, hatch='x')\n",
    "    # Add text to the region\n",
    "    ax[0,col].text(583, 250, '583', horizontalalignment='center', verticalalignment='center', fontsize=16, color='black')\n",
    "    ax[0,col].text(580, 250, 'CC', horizontalalignment='center', verticalalignment='center', fontsize=16, color='red')\n",
    "    ax[0,col].text(586, 250, 'CC', horizontalalignment='center', verticalalignment='center', fontsize=16, color='red')\n",
    "\n",
    "    # Add a vertical span with hatching\n",
    "    ax[1,col].axvspan(xmin=2610, xmax=2620, color='gray', alpha=0.3, hatch='/')\n",
    "    ax[1,col].axvspan(xmin=2605, xmax=2610, color='orange', alpha=0.3, hatch='x')\n",
    "    ax[1,col].axvspan(xmin=2620, xmax=2625, color='orange', alpha=0.3, hatch='x')\n",
    "    # Add text to the region\n",
    "    ax[1,col].text(2615, 80, '2614', horizontalalignment='center', verticalalignment='center', fontsize=16, color='black')\n",
    "    ax[1,col].text(2607, 80, 'CC', horizontalalignment='center', verticalalignment='center', fontsize=16, color='red')\n",
    "    ax[1,col].text(2623, 80, 'CC', horizontalalignment='center', verticalalignment='center', fontsize=16, color='red')"
   ]
  },
  {
   "cell_type": "markdown",
   "id": "2c93e874-c4e5-4c05-aa2c-365772f59254",
   "metadata": {},
   "source": [
    "### Reading the data"
   ]
  },
  {
   "cell_type": "markdown",
   "id": "b48bd9d8-3962-4e2b-9b25-1cddacfcee33",
   "metadata": {
    "tags": []
   },
   "source": [
    "We will use skimmed files so that it is easy to apply the quality cuts."
   ]
  },
  {
   "cell_type": "code",
   "execution_count": 24,
   "id": "c9dacc73-ac92-42fd-b697-68904584382c",
   "metadata": {
    "tags": []
   },
   "outputs": [],
   "source": [
    "import pandas as pd # pandas\n",
    "import numpy as np # numpy\n",
    "import os # for listing files in the directory\n",
    "import glob # Unix style pathname pattern expansion\n",
    "from datetime   import datetime, timezone #for datetime functions\n",
    "import matplotlib as mpl\n",
    "import matplotlib.pyplot as plt # for plotting\n",
    "import matplotlib.dates as mdates # for dates\n",
    "import seaborn as sns # for the 2D histogram\n",
    "from legendmeta import LegendMetadata\n",
    "from scipy.optimize import curve_fit\n",
    "\n",
    "lmeta = LegendMetadata()"
   ]
  },
  {
   "cell_type": "code",
   "execution_count": 25,
   "id": "5ff616a1-d789-481a-977d-57e14f40f429",
   "metadata": {
    "tags": []
   },
   "outputs": [],
   "source": [
    "# Concatenation of files\n",
    "def read_and_concat_data(group):\n",
    "    dfs = [pd.read_parquet(file) for file in group]\n",
    "    return pd.concat(dfs, verify_integrity=True)"
   ]
  },
  {
   "cell_type": "code",
   "execution_count": 26,
   "id": "bb951ada-8a7e-4bec-9282-b23c996a6c28",
   "metadata": {
    "tags": []
   },
   "outputs": [
    {
     "name": "stdout",
     "output_type": "stream",
     "text": [
      "The files processed are:\n",
      "/pscratch/sd/j/jita/Ratio_2614_583/skimmed_files/p03_r000_to_r005.parquet\n",
      "/pscratch/sd/j/jita/Ratio_2614_583/skimmed_files/p04_r000_to_r003.parquet\n",
      "/pscratch/sd/j/jita/Ratio_2614_583/skimmed_files/p06_r000_to_r006.parquet\n",
      "/pscratch/sd/j/jita/Ratio_2614_583/skimmed_files/p07_r001_to_r007.parquet\n",
      "__________________________________________________________________________\n",
      "The keys in the data are:\n",
      "Index(['aoe', 'aoe_aux', 'dt', 'dt_aux', 'energy', 'energy_aux',\n",
      "       'energy_aux_id', 'energy_id', 'is_aoe_tagged', 'is_aoe_tagged_aux',\n",
      "       'is_baseline', 'is_lar_rejected', 'is_lar_rejected_dplms',\n",
      "       'is_muon_tagged', 'is_physical', 'is_physical_aux', 'is_pulser',\n",
      "       'is_ringing', 'is_ringing_aux', 'is_saturated', 'is_saturated_aux',\n",
      "       'is_usable_aoe', 'is_usable_aoe_aux', 'is_valid_channel',\n",
      "       'is_valid_channel_aux', 'lar_classifier', 'lar_energy',\n",
      "       'lar_energy_dplms', 'lar_multiplicity', 'lar_multiplicity_dplms',\n",
      "       'lar_time_shift', 'multiplicity', 'on_multiplicity', 'rt', 'rt_aux',\n",
      "       't0', 't0_aux'],\n",
      "      dtype='object')\n",
      "__________________________________________________________________________\n"
     ]
    },
    {
     "data": {
      "text/html": [
       "<div>\n",
       "<style scoped>\n",
       "    .dataframe tbody tr th:only-of-type {\n",
       "        vertical-align: middle;\n",
       "    }\n",
       "\n",
       "    .dataframe tbody tr th {\n",
       "        vertical-align: top;\n",
       "    }\n",
       "\n",
       "    .dataframe thead th {\n",
       "        text-align: right;\n",
       "    }\n",
       "</style>\n",
       "<table border=\"1\" class=\"dataframe\">\n",
       "  <thead>\n",
       "    <tr style=\"text-align: right;\">\n",
       "      <th></th>\n",
       "      <th>aoe</th>\n",
       "      <th>aoe_aux</th>\n",
       "      <th>dt</th>\n",
       "      <th>dt_aux</th>\n",
       "      <th>energy</th>\n",
       "      <th>energy_aux</th>\n",
       "      <th>energy_aux_id</th>\n",
       "      <th>energy_id</th>\n",
       "      <th>is_aoe_tagged</th>\n",
       "      <th>is_aoe_tagged_aux</th>\n",
       "      <th>...</th>\n",
       "      <th>lar_energy_dplms</th>\n",
       "      <th>lar_multiplicity</th>\n",
       "      <th>lar_multiplicity_dplms</th>\n",
       "      <th>lar_time_shift</th>\n",
       "      <th>multiplicity</th>\n",
       "      <th>on_multiplicity</th>\n",
       "      <th>rt</th>\n",
       "      <th>rt_aux</th>\n",
       "      <th>t0</th>\n",
       "      <th>t0_aux</th>\n",
       "    </tr>\n",
       "    <tr>\n",
       "      <th>timestamp</th>\n",
       "      <th></th>\n",
       "      <th></th>\n",
       "      <th></th>\n",
       "      <th></th>\n",
       "      <th></th>\n",
       "      <th></th>\n",
       "      <th></th>\n",
       "      <th></th>\n",
       "      <th></th>\n",
       "      <th></th>\n",
       "      <th></th>\n",
       "      <th></th>\n",
       "      <th></th>\n",
       "      <th></th>\n",
       "      <th></th>\n",
       "      <th></th>\n",
       "      <th></th>\n",
       "      <th></th>\n",
       "      <th></th>\n",
       "      <th></th>\n",
       "      <th></th>\n",
       "    </tr>\n",
       "  </thead>\n",
       "  <tbody>\n",
       "    <tr>\n",
       "      <th>1.678596e+09</th>\n",
       "      <td>NaN</td>\n",
       "      <td>NaN</td>\n",
       "      <td>-54.273602</td>\n",
       "      <td>-54.273602</td>\n",
       "      <td>185.879236</td>\n",
       "      <td>185.879236</td>\n",
       "      <td>1107203</td>\n",
       "      <td>1107203</td>\n",
       "      <td>False</td>\n",
       "      <td>False</td>\n",
       "      <td>...</td>\n",
       "      <td>1.149703</td>\n",
       "      <td>0.0</td>\n",
       "      <td>1.0</td>\n",
       "      <td>-48448.0</td>\n",
       "      <td>1</td>\n",
       "      <td>1</td>\n",
       "      <td>304.0</td>\n",
       "      <td>304.0</td>\n",
       "      <td>48448.0</td>\n",
       "      <td>48448.0</td>\n",
       "    </tr>\n",
       "    <tr>\n",
       "      <th>1.678596e+09</th>\n",
       "      <td>0.420062</td>\n",
       "      <td>0.420062</td>\n",
       "      <td>687.018799</td>\n",
       "      <td>687.018799</td>\n",
       "      <td>769.050247</td>\n",
       "      <td>769.050247</td>\n",
       "      <td>1121605</td>\n",
       "      <td>1121605</td>\n",
       "      <td>False</td>\n",
       "      <td>False</td>\n",
       "      <td>...</td>\n",
       "      <td>0.000000</td>\n",
       "      <td>0.0</td>\n",
       "      <td>0.0</td>\n",
       "      <td>-47632.0</td>\n",
       "      <td>1</td>\n",
       "      <td>1</td>\n",
       "      <td>512.0</td>\n",
       "      <td>512.0</td>\n",
       "      <td>47632.0</td>\n",
       "      <td>47632.0</td>\n",
       "    </tr>\n",
       "    <tr>\n",
       "      <th>1.678596e+09</th>\n",
       "      <td>-0.515876</td>\n",
       "      <td>-0.515876</td>\n",
       "      <td>617.147522</td>\n",
       "      <td>617.147522</td>\n",
       "      <td>111.203145</td>\n",
       "      <td>111.203145</td>\n",
       "      <td>1118405</td>\n",
       "      <td>1118405</td>\n",
       "      <td>False</td>\n",
       "      <td>False</td>\n",
       "      <td>...</td>\n",
       "      <td>17.239860</td>\n",
       "      <td>7.0</td>\n",
       "      <td>7.0</td>\n",
       "      <td>-47648.0</td>\n",
       "      <td>1</td>\n",
       "      <td>1</td>\n",
       "      <td>464.0</td>\n",
       "      <td>464.0</td>\n",
       "      <td>47648.0</td>\n",
       "      <td>47648.0</td>\n",
       "    </tr>\n",
       "    <tr>\n",
       "      <th>1.678596e+09</th>\n",
       "      <td>NaN</td>\n",
       "      <td>NaN</td>\n",
       "      <td>447.967255</td>\n",
       "      <td>447.967255</td>\n",
       "      <td>240.145878</td>\n",
       "      <td>240.145878</td>\n",
       "      <td>1089601</td>\n",
       "      <td>1089601</td>\n",
       "      <td>False</td>\n",
       "      <td>False</td>\n",
       "      <td>...</td>\n",
       "      <td>8.920335</td>\n",
       "      <td>3.0</td>\n",
       "      <td>3.0</td>\n",
       "      <td>-47824.0</td>\n",
       "      <td>1</td>\n",
       "      <td>1</td>\n",
       "      <td>480.0</td>\n",
       "      <td>480.0</td>\n",
       "      <td>47824.0</td>\n",
       "      <td>47824.0</td>\n",
       "    </tr>\n",
       "    <tr>\n",
       "      <th>1.678596e+09</th>\n",
       "      <td>NaN</td>\n",
       "      <td>NaN</td>\n",
       "      <td>NaN</td>\n",
       "      <td>NaN</td>\n",
       "      <td>NaN</td>\n",
       "      <td>NaN</td>\n",
       "      <td>0</td>\n",
       "      <td>0</td>\n",
       "      <td>False</td>\n",
       "      <td>False</td>\n",
       "      <td>...</td>\n",
       "      <td>0.773492</td>\n",
       "      <td>1.0</td>\n",
       "      <td>1.0</td>\n",
       "      <td>0.0</td>\n",
       "      <td>0</td>\n",
       "      <td>0</td>\n",
       "      <td>NaN</td>\n",
       "      <td>NaN</td>\n",
       "      <td>0.0</td>\n",
       "      <td>0.0</td>\n",
       "    </tr>\n",
       "    <tr>\n",
       "      <th>...</th>\n",
       "      <td>...</td>\n",
       "      <td>...</td>\n",
       "      <td>...</td>\n",
       "      <td>...</td>\n",
       "      <td>...</td>\n",
       "      <td>...</td>\n",
       "      <td>...</td>\n",
       "      <td>...</td>\n",
       "      <td>...</td>\n",
       "      <td>...</td>\n",
       "      <td>...</td>\n",
       "      <td>...</td>\n",
       "      <td>...</td>\n",
       "      <td>...</td>\n",
       "      <td>...</td>\n",
       "      <td>...</td>\n",
       "      <td>...</td>\n",
       "      <td>...</td>\n",
       "      <td>...</td>\n",
       "      <td>...</td>\n",
       "      <td>...</td>\n",
       "    </tr>\n",
       "    <tr>\n",
       "      <th>1.695626e+09</th>\n",
       "      <td>NaN</td>\n",
       "      <td>5.742014</td>\n",
       "      <td>583.979492</td>\n",
       "      <td>191.880249</td>\n",
       "      <td>3322.041284</td>\n",
       "      <td>1119.159006</td>\n",
       "      <td>1086400</td>\n",
       "      <td>1107204</td>\n",
       "      <td>False</td>\n",
       "      <td>True</td>\n",
       "      <td>...</td>\n",
       "      <td>11.990734</td>\n",
       "      <td>14.0</td>\n",
       "      <td>9.0</td>\n",
       "      <td>-48800.0</td>\n",
       "      <td>87</td>\n",
       "      <td>82</td>\n",
       "      <td>352.0</td>\n",
       "      <td>352.0</td>\n",
       "      <td>48800.0</td>\n",
       "      <td>49248.0</td>\n",
       "    </tr>\n",
       "    <tr>\n",
       "      <th>1.695626e+09</th>\n",
       "      <td>NaN</td>\n",
       "      <td>NaN</td>\n",
       "      <td>NaN</td>\n",
       "      <td>NaN</td>\n",
       "      <td>NaN</td>\n",
       "      <td>NaN</td>\n",
       "      <td>0</td>\n",
       "      <td>0</td>\n",
       "      <td>False</td>\n",
       "      <td>False</td>\n",
       "      <td>...</td>\n",
       "      <td>0.000000</td>\n",
       "      <td>0.0</td>\n",
       "      <td>0.0</td>\n",
       "      <td>0.0</td>\n",
       "      <td>0</td>\n",
       "      <td>0</td>\n",
       "      <td>NaN</td>\n",
       "      <td>NaN</td>\n",
       "      <td>0.0</td>\n",
       "      <td>0.0</td>\n",
       "    </tr>\n",
       "    <tr>\n",
       "      <th>1.695626e+09</th>\n",
       "      <td>-1.836839</td>\n",
       "      <td>-1.836839</td>\n",
       "      <td>1208.402710</td>\n",
       "      <td>1208.402710</td>\n",
       "      <td>103.271304</td>\n",
       "      <td>103.271304</td>\n",
       "      <td>1121600</td>\n",
       "      <td>1121600</td>\n",
       "      <td>False</td>\n",
       "      <td>False</td>\n",
       "      <td>...</td>\n",
       "      <td>0.000000</td>\n",
       "      <td>0.0</td>\n",
       "      <td>0.0</td>\n",
       "      <td>-44608.0</td>\n",
       "      <td>1</td>\n",
       "      <td>1</td>\n",
       "      <td>10144.0</td>\n",
       "      <td>10144.0</td>\n",
       "      <td>44608.0</td>\n",
       "      <td>44608.0</td>\n",
       "    </tr>\n",
       "    <tr>\n",
       "      <th>1.695626e+09</th>\n",
       "      <td>-0.966491</td>\n",
       "      <td>NaN</td>\n",
       "      <td>1159.578003</td>\n",
       "      <td>849.040649</td>\n",
       "      <td>75.156766</td>\n",
       "      <td>28.843664</td>\n",
       "      <td>1120005</td>\n",
       "      <td>1121600</td>\n",
       "      <td>False</td>\n",
       "      <td>False</td>\n",
       "      <td>...</td>\n",
       "      <td>0.785396</td>\n",
       "      <td>1.0</td>\n",
       "      <td>1.0</td>\n",
       "      <td>-46880.0</td>\n",
       "      <td>2</td>\n",
       "      <td>2</td>\n",
       "      <td>10032.0</td>\n",
       "      <td>1120.0</td>\n",
       "      <td>46880.0</td>\n",
       "      <td>54336.0</td>\n",
       "    </tr>\n",
       "    <tr>\n",
       "      <th>1.695626e+09</th>\n",
       "      <td>NaN</td>\n",
       "      <td>NaN</td>\n",
       "      <td>NaN</td>\n",
       "      <td>NaN</td>\n",
       "      <td>NaN</td>\n",
       "      <td>NaN</td>\n",
       "      <td>0</td>\n",
       "      <td>0</td>\n",
       "      <td>False</td>\n",
       "      <td>False</td>\n",
       "      <td>...</td>\n",
       "      <td>0.000000</td>\n",
       "      <td>0.0</td>\n",
       "      <td>0.0</td>\n",
       "      <td>0.0</td>\n",
       "      <td>0</td>\n",
       "      <td>0</td>\n",
       "      <td>NaN</td>\n",
       "      <td>NaN</td>\n",
       "      <td>0.0</td>\n",
       "      <td>0.0</td>\n",
       "    </tr>\n",
       "  </tbody>\n",
       "</table>\n",
       "<p>8423628 rows × 37 columns</p>\n",
       "</div>"
      ],
      "text/plain": [
       "                   aoe   aoe_aux           dt       dt_aux       energy  \\\n",
       "timestamp                                                                 \n",
       "1.678596e+09       NaN       NaN   -54.273602   -54.273602   185.879236   \n",
       "1.678596e+09  0.420062  0.420062   687.018799   687.018799   769.050247   \n",
       "1.678596e+09 -0.515876 -0.515876   617.147522   617.147522   111.203145   \n",
       "1.678596e+09       NaN       NaN   447.967255   447.967255   240.145878   \n",
       "1.678596e+09       NaN       NaN          NaN          NaN          NaN   \n",
       "...                ...       ...          ...          ...          ...   \n",
       "1.695626e+09       NaN  5.742014   583.979492   191.880249  3322.041284   \n",
       "1.695626e+09       NaN       NaN          NaN          NaN          NaN   \n",
       "1.695626e+09 -1.836839 -1.836839  1208.402710  1208.402710   103.271304   \n",
       "1.695626e+09 -0.966491       NaN  1159.578003   849.040649    75.156766   \n",
       "1.695626e+09       NaN       NaN          NaN          NaN          NaN   \n",
       "\n",
       "               energy_aux  energy_aux_id  energy_id  is_aoe_tagged  \\\n",
       "timestamp                                                            \n",
       "1.678596e+09   185.879236        1107203    1107203          False   \n",
       "1.678596e+09   769.050247        1121605    1121605          False   \n",
       "1.678596e+09   111.203145        1118405    1118405          False   \n",
       "1.678596e+09   240.145878        1089601    1089601          False   \n",
       "1.678596e+09          NaN              0          0          False   \n",
       "...                   ...            ...        ...            ...   \n",
       "1.695626e+09  1119.159006        1086400    1107204          False   \n",
       "1.695626e+09          NaN              0          0          False   \n",
       "1.695626e+09   103.271304        1121600    1121600          False   \n",
       "1.695626e+09    28.843664        1120005    1121600          False   \n",
       "1.695626e+09          NaN              0          0          False   \n",
       "\n",
       "              is_aoe_tagged_aux  ...  lar_energy_dplms  lar_multiplicity  \\\n",
       "timestamp                        ...                                       \n",
       "1.678596e+09              False  ...          1.149703               0.0   \n",
       "1.678596e+09              False  ...          0.000000               0.0   \n",
       "1.678596e+09              False  ...         17.239860               7.0   \n",
       "1.678596e+09              False  ...          8.920335               3.0   \n",
       "1.678596e+09              False  ...          0.773492               1.0   \n",
       "...                         ...  ...               ...               ...   \n",
       "1.695626e+09               True  ...         11.990734              14.0   \n",
       "1.695626e+09              False  ...          0.000000               0.0   \n",
       "1.695626e+09              False  ...          0.000000               0.0   \n",
       "1.695626e+09              False  ...          0.785396               1.0   \n",
       "1.695626e+09              False  ...          0.000000               0.0   \n",
       "\n",
       "              lar_multiplicity_dplms  lar_time_shift  multiplicity  \\\n",
       "timestamp                                                            \n",
       "1.678596e+09                     1.0        -48448.0             1   \n",
       "1.678596e+09                     0.0        -47632.0             1   \n",
       "1.678596e+09                     7.0        -47648.0             1   \n",
       "1.678596e+09                     3.0        -47824.0             1   \n",
       "1.678596e+09                     1.0             0.0             0   \n",
       "...                              ...             ...           ...   \n",
       "1.695626e+09                     9.0        -48800.0            87   \n",
       "1.695626e+09                     0.0             0.0             0   \n",
       "1.695626e+09                     0.0        -44608.0             1   \n",
       "1.695626e+09                     1.0        -46880.0             2   \n",
       "1.695626e+09                     0.0             0.0             0   \n",
       "\n",
       "              on_multiplicity       rt   rt_aux       t0   t0_aux  \n",
       "timestamp                                                          \n",
       "1.678596e+09                1    304.0    304.0  48448.0  48448.0  \n",
       "1.678596e+09                1    512.0    512.0  47632.0  47632.0  \n",
       "1.678596e+09                1    464.0    464.0  47648.0  47648.0  \n",
       "1.678596e+09                1    480.0    480.0  47824.0  47824.0  \n",
       "1.678596e+09                0      NaN      NaN      0.0      0.0  \n",
       "...                       ...      ...      ...      ...      ...  \n",
       "1.695626e+09               82    352.0    352.0  48800.0  49248.0  \n",
       "1.695626e+09                0      NaN      NaN      0.0      0.0  \n",
       "1.695626e+09                1  10144.0  10144.0  44608.0  44608.0  \n",
       "1.695626e+09                2  10032.0   1120.0  46880.0  54336.0  \n",
       "1.695626e+09                0      NaN      NaN      0.0      0.0  \n",
       "\n",
       "[8423628 rows x 37 columns]"
      ]
     },
     "execution_count": 26,
     "metadata": {},
     "output_type": "execute_result"
    }
   ],
   "source": [
    "# Define the path to the skimmed files\n",
    "path_to_skimmed_files='/pscratch/sd/j/jita/Ratio_2614_583/skimmed_files/*.parquet'\n",
    "skimmed_files=sorted(glob.glob(path_to_skimmed_files))\n",
    "print(\"The files processed are:\")\n",
    "for file in skimmed_files:\n",
    "    print(file)\n",
    "print(\"__________________________________________________________________________\")\n",
    "data= read_and_concat_data(skimmed_files)\n",
    "print(f\"The keys in the data are:\\n{data.keys()}\")\n",
    "print(\"__________________________________________________________________________\")\n",
    "data"
   ]
  },
  {
   "cell_type": "markdown",
   "id": "a5d89ca7-cf8c-4c33-9658-7ba59a9c519f",
   "metadata": {},
   "source": [
    "### Defining the channel map"
   ]
  },
  {
   "cell_type": "markdown",
   "id": "253f8838-5c6c-4bb0-933f-0fb3cda788a2",
   "metadata": {},
   "source": [
    "Defining the date time based on a time stamp towards the start of the stable data taking. Since the hardware mapping has not changed, it should be fine."
   ]
  },
  {
   "cell_type": "code",
   "execution_count": 27,
   "id": "04aa82d3-c78e-42a4-b73c-11c38774487e",
   "metadata": {
    "tags": []
   },
   "outputs": [],
   "source": [
    "# Channel map\n",
    "dt    = datetime(2023, 4, 22, 5, 54, 22, tzinfo=timezone.utc)\n",
    "chmap = lmeta.hardware.configuration.channelmaps.on(dt)"
   ]
  },
  {
   "cell_type": "code",
   "execution_count": 28,
   "id": "db9dbe4f-3f0f-4974-945d-37870077ccfe",
   "metadata": {
    "tags": []
   },
   "outputs": [],
   "source": [
    "# Detectors dictionary\n",
    "detlist=[]\n",
    "for det, val in chmap.items():\n",
    "    if val.system == \"geds\":\n",
    "        detlist.append(det)\n",
    "        \n",
    "channel_dict = {}\n",
    "\n",
    "for channel_name, channel_data in chmap.items():\n",
    "    try:\n",
    "        channel_dict[channel_data['daq']['rawid']] = (lmeta.channelmap(dt)[channel_name].type, channel_name, lmeta.channelmap(dt)[channel_name].production['mass_in_g'], lmeta.channelmap(dt)[channel_name].location.string, lmeta.channelmap(dt)[channel_name].location.position)\n",
    "    except:\n",
    "        #print(channel_name)\n",
    "        continue"
   ]
  },
  {
   "cell_type": "code",
   "execution_count": 29,
   "id": "db9ab0f9-636d-4cce-b7fe-bfa507e5f1f7",
   "metadata": {
    "tags": []
   },
   "outputs": [],
   "source": [
    "# channel and aux channel definition\n",
    "channel_df = pd.DataFrame.from_dict(channel_dict, orient='index', columns=['det_type', 'channel_name', 'mass', 'string', 'position'])\n",
    "channel_df_aux = pd.DataFrame.from_dict(channel_dict, orient='index', columns=['det_type_aux', 'channel_name_aux', 'mass_aux', 'string_aux', 'location_aux'])"
   ]
  },
  {
   "cell_type": "markdown",
   "id": "784673b5-3d0b-4337-be34-eaa18f908c5a",
   "metadata": {},
   "source": [
    "### Merging the channel map and the data"
   ]
  },
  {
   "cell_type": "code",
   "execution_count": 30,
   "id": "8d787652-1d75-487d-a1a4-fb803027de7c",
   "metadata": {
    "tags": []
   },
   "outputs": [],
   "source": [
    "# data is the master dataframe\n",
    "data  = pd.merge(data, channel_df, left_on='energy_id', right_index=True, how='left')\n",
    "data  = pd.merge(data, channel_df_aux, left_on='energy_aux_id', right_index=True, how='left')"
   ]
  },
  {
   "cell_type": "code",
   "execution_count": 32,
   "id": "398dbdec-7c0d-4895-82e4-34929cfdf8d9",
   "metadata": {
    "tags": []
   },
   "outputs": [
    {
     "data": {
      "text/plain": [
       "Index(['aoe', 'aoe_aux', 'dt', 'dt_aux', 'energy', 'energy_aux',\n",
       "       'energy_aux_id', 'energy_id', 'is_aoe_tagged', 'is_aoe_tagged_aux',\n",
       "       'is_baseline', 'is_lar_rejected', 'is_lar_rejected_dplms',\n",
       "       'is_muon_tagged', 'is_physical', 'is_physical_aux', 'is_pulser',\n",
       "       'is_ringing', 'is_ringing_aux', 'is_saturated', 'is_saturated_aux',\n",
       "       'is_usable_aoe', 'is_usable_aoe_aux', 'is_valid_channel',\n",
       "       'is_valid_channel_aux', 'lar_classifier', 'lar_energy',\n",
       "       'lar_energy_dplms', 'lar_multiplicity', 'lar_multiplicity_dplms',\n",
       "       'lar_time_shift', 'multiplicity', 'on_multiplicity', 'rt', 'rt_aux',\n",
       "       't0', 't0_aux', 'det_type', 'channel_name', 'mass', 'string',\n",
       "       'position', 'det_type_aux', 'channel_name_aux', 'mass_aux',\n",
       "       'string_aux', 'location_aux'],\n",
       "      dtype='object')"
      ]
     },
     "execution_count": 32,
     "metadata": {},
     "output_type": "execute_result"
    }
   ],
   "source": [
    "data.keys()"
   ]
  },
  {
   "cell_type": "markdown",
   "id": "2b281509-ab86-4d9e-9305-3159de7c76f9",
   "metadata": {},
   "source": [
    "### Data selection"
   ]
  },
  {
   "cell_type": "markdown",
   "id": "91788379-83b6-4271-8cb5-3a258ad137a7",
   "metadata": {},
   "source": [
    "Applying the general quality cuts. `is_valid_channel` is False if anticoincidence only detector fired. So for the singles spectrum, this condition takes care of removing the ac detectors. I am applying a multiplicity 1 cut because it is unlikely that an electron, even if it escapes the detector, would reach a second detector. This is due to the presence of the LAr."
   ]
  },
  {
   "cell_type": "code",
   "execution_count": 34,
   "id": "b815ce3b-1baa-4409-9318-7e44e97d7fd8",
   "metadata": {
    "tags": []
   },
   "outputs": [],
   "source": [
    "# Data selection\n",
    "data_QC = data[(data.is_pulser == False) \\\n",
    "               & (data.is_baseline == False) \\\n",
    "               & (data.is_muon_tagged == False) \\\n",
    "               & (data.is_valid_channel == True) \\\n",
    "               & (data.is_physical == True) \\\n",
    "               & (data.multiplicity == 1) \\\n",
    "               & (data.is_lar_rejected == False)]"
   ]
  },
  {
   "cell_type": "code",
   "execution_count": 35,
   "id": "81def748-4c5a-4085-a472-c95fb80acd8a",
   "metadata": {
    "tags": []
   },
   "outputs": [
    {
     "data": {
      "text/plain": [
       "Index(['aoe', 'aoe_aux', 'dt', 'dt_aux', 'energy', 'energy_aux',\n",
       "       'energy_aux_id', 'energy_id', 'is_aoe_tagged', 'is_aoe_tagged_aux',\n",
       "       'is_baseline', 'is_lar_rejected', 'is_lar_rejected_dplms',\n",
       "       'is_muon_tagged', 'is_physical', 'is_physical_aux', 'is_pulser',\n",
       "       'is_ringing', 'is_ringing_aux', 'is_saturated', 'is_saturated_aux',\n",
       "       'is_usable_aoe', 'is_usable_aoe_aux', 'is_valid_channel',\n",
       "       'is_valid_channel_aux', 'lar_classifier', 'lar_energy',\n",
       "       'lar_energy_dplms', 'lar_multiplicity', 'lar_multiplicity_dplms',\n",
       "       'lar_time_shift', 'multiplicity', 'on_multiplicity', 'rt', 'rt_aux',\n",
       "       't0', 't0_aux', 'det_type', 'channel_name', 'mass', 'string',\n",
       "       'position', 'det_type_aux', 'channel_name_aux', 'mass_aux',\n",
       "       'string_aux', 'location_aux'],\n",
       "      dtype='object')"
      ]
     },
     "execution_count": 35,
     "metadata": {},
     "output_type": "execute_result"
    }
   ],
   "source": [
    "data_QC.keys()"
   ]
  },
  {
   "cell_type": "markdown",
   "id": "59619e3a-9d7b-4421-908d-d76fef9457e4",
   "metadata": {},
   "source": [
    "First checking the various data groups when all detectors are considered."
   ]
  },
  {
   "cell_type": "code",
   "execution_count": 50,
   "id": "260b0e04-308c-4939-86c9-cc37069d9750",
   "metadata": {
    "tags": []
   },
   "outputs": [
    {
     "data": {
      "image/png": "[encoded data removed]",
      "text/plain": [
       "<Figure size 640x480 with 1 Axes>"
      ]
     },
     "metadata": {},
     "output_type": "display_data"
    }
   ],
   "source": [
    "plt.hist(data_QC[\"energy\"], range = (0,3000), bins = 3000, histtype='step', alpha = 0.6, linewidth=2, label='All Detectors')\n",
    "plt.ylabel('Counts')\n",
    "plt.xlabel('Energy (keV)')\n",
    "plt.legend()\n",
    "plt.xlim(0,2050)\n",
    "plt.yscale('log')"
   ]
  },
  {
   "cell_type": "code",
   "execution_count": 37,
   "id": "42cf91c2-5076-4ce6-8cd6-5fd1ff7a4b8a",
   "metadata": {
    "tags": []
   },
   "outputs": [],
   "source": [
    "# Split by data groups\n",
    "data_QC_ppc = data_QC[data_QC.det_type == 'ppc']\n",
    "data_QC_icpc = data_QC[data_QC.det_type == 'icpc']  \n",
    "data_QC_coax = data_QC[data_QC.det_type == 'coax']   \n",
    "data_QC_bege = data_QC[data_QC.det_type == 'bege']  "
   ]
  },
  {
   "cell_type": "code",
   "execution_count": 51,
   "id": "b20beba2-d1f0-4d89-a28d-97fed5e5e792",
   "metadata": {
    "tags": []
   },
   "outputs": [
    {
     "data": {
      "image/png": "[encoded data removed]",
      "text/plain": [
       "<Figure size 640x480 with 1 Axes>"
      ]
     },
     "metadata": {},
     "output_type": "display_data"
    }
   ],
   "source": [
    "plt.hist(data_QC_ppc[\"energy\"], range = (565,3000), bins = 3000 - 565, histtype='step', alpha = 0.6, linewidth=2, label='ppc')\n",
    "plt.hist(data_QC_icpc[\"energy\"], range = (565,3000), bins = 3000 - 565, histtype='step', alpha = 0.6, linewidth=2, label='icpc')\n",
    "plt.hist(data_QC_coax[\"energy\"], range = (565,3000), bins = 3000 - 565, histtype='step', alpha = 0.6, linewidth=2, label='coax')\n",
    "plt.hist(data_QC_bege[\"energy\"], range = (565,3000), bins = 3000 - 565, histtype='step', alpha = 0.6, linewidth=2, label='bege')\n",
    "plt.ylabel('Counts')\n",
    "plt.xlabel('Energy (keV)')\n",
    "plt.legend()\n",
    "plt.xlim(565,2050)\n",
    "plt.yscale('log')"
   ]
  },
  {
   "cell_type": "markdown",
   "id": "6765ce01-0d0f-4f7a-96cf-b3cb27ca043d",
   "metadata": {},
   "source": [
    "Check now for detectors which have a useable aoe. This flag might change in the future."
   ]
  },
  {
   "cell_type": "code",
   "execution_count": 54,
   "id": "f2b0ec50-7e84-4599-bcb1-eb1e4138d495",
   "metadata": {
    "tags": []
   },
   "outputs": [],
   "source": [
    "# Data selection\n",
    "data_psd = data[(data.is_pulser == False) \\\n",
    "               & (data.is_baseline == False) \\\n",
    "               & (data.is_muon_tagged == False) \\\n",
    "               & (data.is_valid_channel == True) \\\n",
    "               & (data.is_physical == True) \\\n",
    "               & (data.multiplicity == 1) \\\n",
    "               & (data.is_lar_rejected == False) \\\n",
    "               & (data.is_usable_aoe == True)]"
   ]
  },
  {
   "cell_type": "code",
   "execution_count": 55,
   "id": "ea5d0640-7c9b-4fb2-ab90-09685133ce19",
   "metadata": {
    "tags": []
   },
   "outputs": [],
   "source": [
    "# Split by data groups\n",
    "data_psd_ppc = data_psd[data_psd.det_type == 'ppc']\n",
    "data_psd_icpc = data_psd[data_psd.det_type == 'icpc']  \n",
    "data_psd_coax = data_psd[data_psd.det_type == 'coax']   \n",
    "data_psd_bege = data_psd[data_psd.det_type == 'bege']  "
   ]
  },
  {
   "cell_type": "code",
   "execution_count": 78,
   "id": "ceda5562-8353-4e05-b26b-1ae181901e3e",
   "metadata": {
    "tags": []
   },
   "outputs": [
    {
     "data": {
      "image/png": "[encoded data removed]",
      "text/plain": [
       "<Figure size 640x480 with 1 Axes>"
      ]
     },
     "metadata": {},
     "output_type": "display_data"
    }
   ],
   "source": [
    "plt.hist(data_psd_ppc[\"energy\"], range = (565,3000), bins = (3000 - 565), histtype='step', alpha = 0.6, linewidth=2, label='ppc')\n",
    "plt.hist(data_psd_icpc[\"energy\"], range = (565,3000), bins = (3000 - 565), histtype='step', alpha = 0.6, linewidth=2, label='icpc')\n",
    "plt.hist(data_psd_coax[\"energy\"], range = (565,3000), bins = (3000 - 565), histtype='step', alpha = 0.6, linewidth=2, label='coax')\n",
    "plt.hist(data_psd_bege[\"energy\"], range = (565,3000), bins = (3000 - 565), histtype='step', alpha = 0.6, linewidth=2, label='bege')\n",
    "plt.title('Vancouver dataset: Detectors with valid PSD')\n",
    "plt.axvspan(xmin=600, xmax=1400, color='gray', alpha=0.2)\n",
    "plt.text(1000, 250, 'Integration window', horizontalalignment='center', verticalalignment='center', fontsize=8, color='black')\n",
    "plt.ylabel('Counts')\n",
    "plt.xlabel('Energy (keV)')\n",
    "plt.legend()\n",
    "plt.xlim(565,2050)\n",
    "plt.yscale('log')"
   ]
  },
  {
   "cell_type": "markdown",
   "id": "aa83b8f5-f544-4d6b-9e44-21ef937fa9de",
   "metadata": {
    "tags": []
   },
   "source": [
    "The recent metadata does not flag any PPC as usable. So is plot going to change once the new processed files are available?"
   ]
  },
  {
   "cell_type": "markdown",
   "id": "f6a6e2c0-b965-4924-8fb1-18c437da7363",
   "metadata": {},
   "source": [
    "The only groups of detectors for which we can make some checks is the icpc and bege detectors."
   ]
  },
  {
   "cell_type": "markdown",
   "id": "36a5263b-601a-455b-98d4-efb09a8b0ea4",
   "metadata": {},
   "source": [
    "Let's check how much statistics, we can expect from the 600 - 1400 keV region. Not cutting out peaks at the moment."
   ]
  },
  {
   "cell_type": "code",
   "execution_count": 81,
   "id": "f181b61c-2e39-46e7-b62a-ecde4cf43adf",
   "metadata": {
    "tags": []
   },
   "outputs": [
    {
     "name": "stdout",
     "output_type": "stream",
     "text": [
      "2nBB counts in ICPC detectors: 3677\n",
      "2nBB counts in BeGE detectors: 987\n"
     ]
    }
   ],
   "source": [
    "bins = [x for x in np.arange(600,1400)]\n",
    "icpc_cts = count_integrator(data_psd_icpc[\"energy\"],bins,600,1400)\n",
    "bege_cts = count_integrator(data_psd_bege[\"energy\"],bins,600,1400)\n",
    "print(f\"2nBB counts in ICPC detectors: {icpc_cts}\")\n",
    "print(f\"2nBB counts in BeGE detectors: {bege_cts}\")"
   ]
  },
  {
   "cell_type": "code",
   "execution_count": null,
   "id": "586d1883-d8e5-4edc-820b-eee87849c102",
   "metadata": {},
   "outputs": [],
   "source": []
  }
 ],
 "metadata": {
  "kernelspec": {
   "display_name": "legend-base",
   "language": "python",
   "name": "legend-base"
  },
  "language_info": {
   "codemirror_mode": {
    "name": "ipython",
    "version": 3
   },
   "file_extension": ".py",
   "mimetype": "text/x-python",
   "name": "python",
   "nbconvert_exporter": "python",
   "pygments_lexer": "ipython3",
   "version": "3.11.5"
  }
 },
 "nbformat": 4,
 "nbformat_minor": 5
}
